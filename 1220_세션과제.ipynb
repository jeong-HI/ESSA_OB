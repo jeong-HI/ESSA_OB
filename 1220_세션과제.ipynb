{
 "cells": [
  {
   "cell_type": "markdown",
   "metadata": {
    "id": "9dqhGeEZiQn-"
   },
   "source": [
    "1. 데이터셋의 차원을 축소하는 목적은 무엇인가요? 대표적인 단점은 무엇인가요?"
   ]
  },
  {
   "cell_type": "markdown",
   "metadata": {
    "id": "KjQ1_L_FiqDb"
   },
   "source": [
    "목적은 모델 훈련 속도가 빨라진다는 점이고, 단점은 축소하는 과정에서 정보유실이 발생할 수 있다는 것이다. "
   ]
  },
  {
   "cell_type": "markdown",
   "metadata": {
    "id": "koJ9d34cibn2"
   },
   "source": [
    "2. 기본 PCA, 점진적 PCA, 랜덤 PCA,커널 PCA는 어느 경우에 사용될까요?"
   ]
  },
  {
   "cell_type": "markdown",
   "metadata": {
    "id": "P9e-3-HzimIE"
   },
   "source": [
    "기본 PCA : 차원 축소할 때 사용함\n",
    "점진적 PCA: 데이터 셋의 크기가 클 때 사용함. \n",
    "랜덤 PCA: 차원을 80%이하로 줄일 때 사용함. \n",
    "커널 PCA: 투영된 후 샘플의 군집을 유지하거나 꼬인 매니폴드를 펼칠 때 유용함. "
   ]
  },
  {
   "cell_type": "markdown",
   "metadata": {
    "id": "28ZlnWKbi-fL"
   },
   "source": [
    "3. MNIST 데이터셋을 로드하고 훈련세트와 테스트세트로 분할하겠습니다."
   ]
  },
  {
   "cell_type": "markdown",
   "metadata": {
    "id": "NaWuyONJk_6l"
   },
   "source": [
    "# 모듈 설정 및 데이터 불러오기"
   ]
  },
  {
   "cell_type": "code",
   "execution_count": 1,
   "metadata": {
    "executionInfo": {
     "elapsed": 29835,
     "status": "ok",
     "timestamp": 1630386090457,
     "user": {
      "displayName": "­권가윤(자연과학대학 통계학과)",
      "photoUrl": "",
      "userId": "12457252546598237897"
     },
     "user_tz": -540
    },
    "id": "vC5y5w5TjJeb"
   },
   "outputs": [],
   "source": [
    "# 파이썬 ≥3.5 필수\n",
    "import sys\n",
    "assert sys.version_info >= (3, 5)\n",
    "\n",
    "# 사이킷런 ≥0.20 필수\n",
    "import sklearn\n",
    "assert sklearn.__version__ >= \"0.20\"\n",
    "\n",
    "# 공통 모듈 임포트\n",
    "import numpy as np\n",
    "import os\n",
    "\n",
    "# 노트북 실행 결과를 동일하게 유지하기 위해\n",
    "np.random.seed(42)\n",
    "\n",
    "# MNIST 불러오기\n",
    "from sklearn.datasets import fetch_openml\n",
    "\n",
    "mnist = fetch_openml('mnist_784', version=1, as_frame=False)\n",
    "mnist.target = mnist.target.astype(np.uint8)"
   ]
  },
  {
   "cell_type": "markdown",
   "metadata": {
    "id": "sE46F301lsCK"
   },
   "source": [
    "# 훈련세트와 테스트세트로 분할"
   ]
  },
  {
   "cell_type": "code",
   "execution_count": 18,
   "metadata": {
    "executionInfo": {
     "elapsed": 347,
     "status": "ok",
     "timestamp": 1630386230739,
     "user": {
      "displayName": "­권가윤(자연과학대학 통계학과)",
      "photoUrl": "",
      "userId": "12457252546598237897"
     },
     "user_tz": -540
    },
    "id": "3FCer4bbjI_E"
   },
   "outputs": [],
   "source": [
    "# 첫 60000개는 훈련을 위한 샘플, 나머지 10000개는 테스트용으로 분할\n",
    "X_train = mnist['data'][:60000]\n",
    "y_train = mnist['target'][:60000]\n",
    "\n",
    "X_test = mnist['data'][60000:]\n",
    "y_test = mnist['target'][60000:]"
   ]
  },
  {
   "cell_type": "markdown",
   "metadata": {
    "id": "1xe-EAtul6hi"
   },
   "source": [
    "3.1 이 데이터셋을 랜덤 포레스트 분류기로 훈련시키고 시간이 얼마나 오래걸리는지 시간을 잰 후, 테스트 세트로 만들어진 모델의 정확도를 평가합니다."
   ]
  },
  {
   "cell_type": "code",
   "execution_count": 3,
   "metadata": {
    "executionInfo": {
     "elapsed": 572,
     "status": "ok",
     "timestamp": 1630387342780,
     "user": {
      "displayName": "­권가윤(자연과학대학 통계학과)",
      "photoUrl": "",
      "userId": "12457252546598237897"
     },
     "user_tz": -540
    },
    "id": "0onbkszcmNPQ"
   },
   "outputs": [],
   "source": [
    "# 랜덤포레스트로 훈련시키는 코드\n",
    "from sklearn.ensemble import RandomForestClassifier\n",
    "\n",
    "rnd_clf = RandomForestClassifier(n_estimators=100, random_state=42)"
   ]
  },
  {
   "cell_type": "code",
   "execution_count": 4,
   "metadata": {
    "colab": {
     "base_uri": "https://localhost:8080/"
    },
    "executionInfo": {
     "elapsed": 47272,
     "status": "ok",
     "timestamp": 1630387393764,
     "user": {
      "displayName": "­권가윤(자연과학대학 통계학과)",
      "photoUrl": "",
      "userId": "12457252546598237897"
     },
     "user_tz": -540
    },
    "id": "MTY66DlXmWGv",
    "outputId": "fde54497-d6a4-4fc9-c3d7-8dd09aa38b4d"
   },
   "outputs": [
    {
     "name": "stdout",
     "output_type": "stream",
     "text": [
      "훈련 시간: 168.25s\n"
     ]
    }
   ],
   "source": [
    "# 훈련 시간을 재는 코드입니다.\n",
    "import time\n",
    "\n",
    "t0 = time.time()\n",
    "rnd_clf.fit(X_train, y_train)\n",
    "t1 = time.time()\n",
    "\n",
    "print(\"훈련 시간: {:.2f}s\".format(t1 - t0))"
   ]
  },
  {
   "cell_type": "code",
   "execution_count": 7,
   "metadata": {
    "colab": {
     "base_uri": "https://localhost:8080/"
    },
    "executionInfo": {
     "elapsed": 869,
     "status": "ok",
     "timestamp": 1630387398597,
     "user": {
      "displayName": "­권가윤(자연과학대학 통계학과)",
      "photoUrl": "",
      "userId": "12457252546598237897"
     },
     "user_tz": -540
    },
    "id": "klCgXFh3mz-H",
    "outputId": "835b4eb0-ba88-4544-a3ae-d1f931121361"
   },
   "outputs": [
    {
     "data": {
      "text/plain": [
       "0.9705"
      ]
     },
     "execution_count": 7,
     "metadata": {},
     "output_type": "execute_result"
    }
   ],
   "source": [
    "# 정확도 평가 코드입니다.\n",
    "from sklearn.metrics import accuracy_score\n",
    "\n",
    "y_pred = rnd_clf.predict(X_test)\n",
    "accuracy_score(y_test, y_pred)"
   ]
  },
  {
   "cell_type": "markdown",
   "metadata": {
    "id": "tme14Nezm8fI"
   },
   "source": [
    "**3.2 문제 : 데이터셋을 PCA를 사용해 설명된 분산이 95%가 되도록 차원을 축소하세요**"
   ]
  },
  {
   "cell_type": "code",
   "execution_count": 6,
   "metadata": {
    "id": "6xmHLxA-nGkb"
   },
   "outputs": [
    {
     "data": {
      "text/plain": [
       "array([[ 123.93258866, -312.67426202,  -24.51405176, ...,   55.01899792,\n",
       "         -20.08327427,   39.58995229],\n",
       "       [1011.71837587, -294.85703827,  596.33956104, ...,    7.24129874,\n",
       "         -12.45780869,  -12.7432306 ],\n",
       "       [ -51.84960805,  392.17315286, -188.50974943, ...,  -54.19582221,\n",
       "          48.47979747,  -73.27826256],\n",
       "       ...,\n",
       "       [-178.0534496 ,  160.07821109, -257.61308227, ...,   55.54485537,\n",
       "          87.99883556,   -5.78979735],\n",
       "       [ 130.60607208,   -5.59193642,  513.85867395, ...,   23.30835402,\n",
       "           5.06237836,  -65.26525587],\n",
       "       [-173.43595244,  -24.71880226,  556.01889393, ...,   52.4956069 ,\n",
       "          12.63192292,  -45.74001227]])"
      ]
     },
     "execution_count": 6,
     "metadata": {},
     "output_type": "execute_result"
    }
   ],
   "source": [
    "from sklearn.decomposition import PCA\n",
    "pca=PCA(n_components=0.95)\n",
    "pca.fit_transform(X_train)"
   ]
  },
  {
   "cell_type": "markdown",
   "metadata": {
    "id": "5JHF-cvTnH_t"
   },
   "source": [
    "**3.3 문제 : 이 축소된 데이터셋에 위와 같이 새로운 랜덤포레스트 분류기를 훈련시키고 얼마나 오래걸리는지 확인합니다. 훈련 시간이 빨라졌나요?**"
   ]
  },
  {
   "cell_type": "code",
   "execution_count": 7,
   "metadata": {
    "id": "iJwlAOF2nfiE"
   },
   "outputs": [
    {
     "name": "stdout",
     "output_type": "stream",
     "text": [
      "훈련 시간: 162.08s\n"
     ]
    }
   ],
   "source": [
    "rnd_clf = RandomForestClassifier(n_estimators=100, random_state=42)\n",
    "\n",
    "\n",
    "t0 = time.time()\n",
    "rnd_clf.fit(X_train, y_train)\n",
    "t1 = time.time()\n",
    "\n",
    "print(\"훈련 시간: {:.2f}s\".format(t1 - t0))"
   ]
  },
  {
   "cell_type": "markdown",
   "metadata": {},
   "source": [
    "훈련시간이 빨라짐"
   ]
  },
  {
   "cell_type": "markdown",
   "metadata": {
    "id": "5akaZqgnnkIZ"
   },
   "source": [
    "**3.4 문제: 이 테스트 세트에서 이 분류기의 정확도를 평가해보세요. 이전 분류기와 비교해서 어떤가요?**"
   ]
  },
  {
   "cell_type": "code",
   "execution_count": 9,
   "metadata": {
    "id": "UeShGy29nqrJ"
   },
   "outputs": [
    {
     "data": {
      "text/plain": [
       "0.9705"
      ]
     },
     "execution_count": 9,
     "metadata": {},
     "output_type": "execute_result"
    }
   ],
   "source": [
    "from sklearn.metrics import accuracy_score\n",
    "y_pred = rnd_clf.predict(X_test)\n",
    "accuracy_score(y_test, y_pred)"
   ]
  },
  {
   "cell_type": "markdown",
   "metadata": {},
   "source": [
    "이전 분류기와 정확도가 똑같음"
   ]
  },
  {
   "cell_type": "markdown",
   "metadata": {
    "id": "1z6q2On3ocXr"
   },
   "source": [
    "3.5 소프트 맥스 회귀를 사용해서도 같은 방식으로 실험을 해봅니다."
   ]
  },
  {
   "cell_type": "code",
   "execution_count": 19,
   "metadata": {
    "id": "14CAbbqVojVi"
   },
   "outputs": [
    {
     "name": "stderr",
     "output_type": "stream",
     "text": [
      "C:\\Users\\jeehy\\anaconda3\\envs\\test\\lib\\site-packages\\sklearn\\linear_model\\_logistic.py:764: ConvergenceWarning: lbfgs failed to converge (status=1):\n",
      "STOP: TOTAL NO. of ITERATIONS REACHED LIMIT.\n",
      "\n",
      "Increase the number of iterations (max_iter) or scale the data as shown in:\n",
      "    https://scikit-learn.org/stable/modules/preprocessing.html\n",
      "Please also refer to the documentation for alternative solver options:\n",
      "    https://scikit-learn.org/stable/modules/linear_model.html#logistic-regression\n",
      "  extra_warning_msg=_LOGISTIC_SOLVER_CONVERGENCE_MSG)\n"
     ]
    }
   ],
   "source": [
    "# 차원축소 이전의 코드\n",
    "from sklearn.linear_model import LogisticRegression\n",
    "\n",
    "log_clf = LogisticRegression(multi_class=\"multinomial\", solver=\"lbfgs\", random_state=42)\n",
    "t0 = time.time()\n",
    "log_clf.fit(X_train, y_train)\n",
    "t1 = time.time()"
   ]
  },
  {
   "cell_type": "code",
   "execution_count": 20,
   "metadata": {
    "id": "H8YQXt91ovnL"
   },
   "outputs": [
    {
     "name": "stdout",
     "output_type": "stream",
     "text": [
      "훈련 시간: 71.88s\n"
     ]
    }
   ],
   "source": [
    "print(\"훈련 시간: {:.2f}s\".format(t1 - t0))"
   ]
  },
  {
   "cell_type": "code",
   "execution_count": 21,
   "metadata": {
    "id": "DJMencFdoxIE"
   },
   "outputs": [
    {
     "data": {
      "text/plain": [
       "0.9255"
      ]
     },
     "execution_count": 21,
     "metadata": {},
     "output_type": "execute_result"
    }
   ],
   "source": [
    "y_pred = log_clf.predict(X_test)\n",
    "accuracy_score(y_test, y_pred)"
   ]
  },
  {
   "cell_type": "markdown",
   "metadata": {
    "id": "_SR8DpJTozQz"
   },
   "source": [
    "**3.6 문제 : 3.2에서 축소된 데이터 셋을 사용해 소프트맥스 회귀모델을 훈련시켜보세요. 그리고 훈련시간을 확인하세요**"
   ]
  },
  {
   "cell_type": "code",
   "execution_count": 13,
   "metadata": {
    "id": "cj2v-6BzpMW0"
   },
   "outputs": [
    {
     "name": "stderr",
     "output_type": "stream",
     "text": [
      "C:\\Users\\jeehy\\anaconda3\\envs\\test\\lib\\site-packages\\sklearn\\linear_model\\_logistic.py:764: ConvergenceWarning: lbfgs failed to converge (status=1):\n",
      "STOP: TOTAL NO. of ITERATIONS REACHED LIMIT.\n",
      "\n",
      "Increase the number of iterations (max_iter) or scale the data as shown in:\n",
      "    https://scikit-learn.org/stable/modules/preprocessing.html\n",
      "Please also refer to the documentation for alternative solver options:\n",
      "    https://scikit-learn.org/stable/modules/linear_model.html#logistic-regression\n",
      "  extra_warning_msg=_LOGISTIC_SOLVER_CONVERGENCE_MSG)\n"
     ]
    }
   ],
   "source": [
    "\n",
    "from sklearn.linear_model import LogisticRegression\n",
    "log_clf = LogisticRegression(multi_class=\"multinomial\", solver=\"lbfgs\", random_state=42)\n",
    "t0 = time.time()\n",
    "log_clf.fit(X_train, y_train)\n",
    "t1 = time.time()"
   ]
  },
  {
   "cell_type": "code",
   "execution_count": 16,
   "metadata": {},
   "outputs": [
    {
     "data": {
      "text/plain": [
       "80.43239116668701"
      ]
     },
     "execution_count": 16,
     "metadata": {},
     "output_type": "execute_result"
    }
   ],
   "source": [
    "t1-t0"
   ]
  },
  {
   "cell_type": "markdown",
   "metadata": {},
   "source": [
    "훈련시간이 굉장히 빨라짐"
   ]
  },
  {
   "cell_type": "markdown",
   "metadata": {
    "id": "wMy1L2nSpWZm"
   },
   "source": [
    "**3.7 문제 : 모델의 정확도도 확인해보세요**"
   ]
  },
  {
   "cell_type": "code",
   "execution_count": 14,
   "metadata": {
    "id": "hQtH-9ghpkw3"
   },
   "outputs": [
    {
     "data": {
      "text/plain": [
       "0.9255"
      ]
     },
     "execution_count": 14,
     "metadata": {},
     "output_type": "execute_result"
    }
   ],
   "source": [
    "y_pred = log_clf.predict(X_test)\n",
    "accuracy_score(y_test, y_pred)"
   ]
  },
  {
   "cell_type": "markdown",
   "metadata": {
    "id": "55eN4bcItVNl"
   },
   "source": [
    "**3.8 문제 : 랜덤포레스트 모형의 훈련시간과 정확도, 소프트맥스 모형의 훈련시간과 정확도를 비교해보세요.**"
   ]
  },
  {
   "cell_type": "markdown",
   "metadata": {
    "id": "FZfgxC2vtW-d"
   },
   "source": [
    "랜덤포레스트의 정확도는 0.9705, 소프트맥스 모형의 정확도는 0.9255로, 소프트맥스 모형의 정확도가 높다.\n",
    "소프트맥스 모형의 훈련시간이 랜덤포레스트의 2배정도 빠르다. "
   ]
  }
 ],
 "metadata": {
  "colab": {
   "authorship_tag": "ABX9TyP9wu83OeM0T5cdwdmKvbaz",
   "collapsed_sections": [],
   "name": "OB차원축소.ipynb",
   "provenance": []
  },
  "kernelspec": {
   "display_name": "Python 3",
   "language": "python",
   "name": "python3"
  },
  "language_info": {
   "codemirror_mode": {
    "name": "ipython",
    "version": 3
   },
   "file_extension": ".py",
   "mimetype": "text/x-python",
   "name": "python",
   "nbconvert_exporter": "python",
   "pygments_lexer": "ipython3",
   "version": "3.7.9"
  },
  "toc": {
   "base_numbering": 1,
   "nav_menu": {},
   "number_sections": true,
   "sideBar": true,
   "skip_h1_title": false,
   "title_cell": "Table of Contents",
   "title_sidebar": "Contents",
   "toc_cell": false,
   "toc_position": {},
   "toc_section_display": true,
   "toc_window_display": false
  }
 },
 "nbformat": 4,
 "nbformat_minor": 1
}
