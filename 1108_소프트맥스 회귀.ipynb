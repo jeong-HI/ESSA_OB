{
 "cells": [
  {
   "cell_type": "markdown",
   "metadata": {
    "id": "zKIh_eUrRGrh"
   },
   "source": [
    "# **4. 모델 훈련 연습문제**\n"
   ]
  },
  {
   "cell_type": "markdown",
   "metadata": {
    "id": "xfq9au-8RLzV"
   },
   "source": [
    "### 1) 수백만 개의 특성을 가진 훈련 세트에서는 어떤 선형 회귀 알고리즘을 사용할 수 있을까요?"
   ]
  },
  {
   "cell_type": "markdown",
   "metadata": {
    "id": "tzcik5TKRSbt"
   },
   "source": [
    "확률적 경사 하강법. 매 반복에서 다뤄야 할 데이터가 매우 적기 때문에 한 번에 하나의 샘플을 처리하고, 알고리즘이 훨씬 빠르기 때문.\n",
    "\n"
   ]
  },
  {
   "cell_type": "markdown",
   "metadata": {
    "id": "j9gWwKzYRrnz"
   },
   "source": [
    "### 9) 릿지 회귀를 사용했을 때 훈련 오차와 검증 오차가 거의 비슷하고 둘 다 높았습니다. 이 모델에는 높은 편향이 문제인가요, 아니면 높은 분산이 문제인가요? 규제 하이퍼파라미터 α 를 증가시켜야할까요, 아니면 줄여야 할까요?"
   ]
  },
  {
   "cell_type": "markdown",
   "metadata": {
    "id": "I14Vc7qnSXmo"
   },
   "source": [
    "분산이 높을 경우에는 과적합되어 훈련 오차가 검증 오차보다 훨씬 더 크게 나타난다. 따라서 이 모델의 경우에는 높은 편향이 문제이고, 규제 하이퍼파라미터를 감소시켜야 한다. (alpha를 증가시킬수록 모델의 분산은 줄고 편향이 커짐)\n",
    "\n"
   ]
  },
  {
   "cell_type": "markdown",
   "metadata": {
    "id": "YKB1N5zoSYuQ"
   },
   "source": [
    "### 10) 다음과 같이 사용해야 하는 이유는?\n",
    "\n",
    "- 평범한 선형 회귀(즉, 아무런 규제가 없는 모델) 대신 릿지 회귀\n",
    "\n",
    "- 릿지 회귀 대신 라쏘 회귀\n",
    "\n",
    "- 라쏘 회귀 대신 엘라스틱넷"
   ]
  },
  {
   "cell_type": "markdown",
   "metadata": {
    "id": "q1fa5fWsSj1q"
   },
   "source": [
    "1) 과대적합 방지\n",
    "\n",
    "2) 설명변수의 개수를 줄여 복잡도를 낮춘다.\n",
    "\n",
    "3) 훈련샘플수보다 많거나 특성 몇 개가 과하게 연관되어있을 때"
   ]
  },
  {
   "cell_type": "markdown",
   "metadata": {
    "id": "jXIoqwmOjePT"
   },
   "source": [
    "# 12) 다음 사이트에 들어가서 연습문제 12번 일부를 필사하세요.\n",
    "\n",
    "https://github.com/rickiepark/handson-ml2/blob/master/04_training_linear_models.ipynb\n",
    "\n",
    "- 67번 셀 부터 80번 셀 까지 필사하시면 됩니다.\n",
    "\n",
    "- 시간이 남는다면 그 이후 코드까지 필사하셔도 좋습니다.\n",
    "\n",
    "- 수식이 설명되어있는 부분을 보고싶으면 그 부분을 그대로 복사하여 텍스트 창에 붙여넣기 한 다음 직접 실행시키시면 확인해볼 수 있습니다."
   ]
  },
  {
   "cell_type": "code",
   "execution_count": 1,
   "metadata": {
    "id": "N1cf8nP7REj6"
   },
   "outputs": [
    {
     "data": {
      "text/plain": [
       "['data',\n",
       " 'target',\n",
       " 'frame',\n",
       " 'target_names',\n",
       " 'DESCR',\n",
       " 'feature_names',\n",
       " 'filename']"
      ]
     },
     "execution_count": 1,
     "metadata": {},
     "output_type": "execute_result"
    }
   ],
   "source": [
    "from sklearn import datasets\n",
    "iris = datasets.load_iris()\n",
    "list(iris.keys())"
   ]
  },
  {
   "cell_type": "code",
   "execution_count": 2,
   "metadata": {},
   "outputs": [],
   "source": [
    "X = iris[\"data\"][:, (2, 3)]  # 꽃잎 길이, 꽃잎 넓이\n",
    "y = iris[\"target\"]"
   ]
  },
  {
   "cell_type": "code",
   "execution_count": 4,
   "metadata": {},
   "outputs": [],
   "source": [
    "import numpy as np\n",
    "#모든 샘플에 편향을 추가한다.\n",
    "X_with_bias= np.c_[np.ones([len(X),1]),X]"
   ]
  },
  {
   "cell_type": "code",
   "execution_count": 5,
   "metadata": {},
   "outputs": [],
   "source": [
    "# 결과를 일정하게 유지하기 위해 랜덤 시드를 지정합니다:\n",
    "np.random.seed(2042)"
   ]
  },
  {
   "cell_type": "code",
   "execution_count": 7,
   "metadata": {},
   "outputs": [],
   "source": [
    "# 데이터 나누기\n",
    "test_ratio= 0.2\n",
    "validation_ratio=0.2\n",
    "total_size=len(X_with_bias)\n",
    "\n",
    "test_size= int(total_size*test_ratio)\n",
    "validation_size= int(total_size*validation_ratio)\n",
    "train_size= total_size-test_size- validation_size"
   ]
  },
  {
   "cell_type": "code",
   "execution_count": 8,
   "metadata": {},
   "outputs": [],
   "source": [
    "rnd_indices = np.random.permutation(total_size)"
   ]
  },
  {
   "cell_type": "code",
   "execution_count": 9,
   "metadata": {},
   "outputs": [],
   "source": [
    "X_train= X_with_bias[rnd_indices[:train_size]]\n",
    "y_train=y[rnd_indices[:train_size]]\n",
    "X_valid= X_with_bias[rnd_indices[train_size:-test_size]]\n",
    "y_valid = y[rnd_indices[train_size:-test_size]]\n",
    "X_test = X_with_bias[rnd_indices[-test_size:]]\n",
    "y_test = y[rnd_indices[-test_size:]]"
   ]
  },
  {
   "cell_type": "code",
   "execution_count": 10,
   "metadata": {},
   "outputs": [],
   "source": [
    "# 클래스 인덱스를 원-핫 벡터로 바꾸는 간단한 함수\n",
    "def to_one_hot(y):\n",
    "    n_classes=y.max()+1\n",
    "    m=len(y)\n",
    "    Y_one_hot= np.zeros((m,n_classes))\n",
    "    Y_one_hot[np.arange(m),y]=1\n",
    "    return Y_one_hot"
   ]
  },
  {
   "cell_type": "code",
   "execution_count": 11,
   "metadata": {},
   "outputs": [
    {
     "data": {
      "text/plain": [
       "array([0, 1, 2, 1, 1, 0, 1, 1, 1, 0])"
      ]
     },
     "execution_count": 11,
     "metadata": {},
     "output_type": "execute_result"
    }
   ],
   "source": [
    "y_train[:10]"
   ]
  },
  {
   "cell_type": "code",
   "execution_count": 12,
   "metadata": {},
   "outputs": [
    {
     "data": {
      "text/plain": [
       "array([[1., 0., 0.],\n",
       "       [0., 1., 0.],\n",
       "       [0., 0., 1.],\n",
       "       [0., 1., 0.],\n",
       "       [0., 1., 0.],\n",
       "       [1., 0., 0.],\n",
       "       [0., 1., 0.],\n",
       "       [0., 1., 0.],\n",
       "       [0., 1., 0.],\n",
       "       [1., 0., 0.]])"
      ]
     },
     "execution_count": 12,
     "metadata": {},
     "output_type": "execute_result"
    }
   ],
   "source": [
    "to_one_hot(y_train[:10])"
   ]
  },
  {
   "cell_type": "code",
   "execution_count": 15,
   "metadata": {},
   "outputs": [],
   "source": [
    "# 훈련 세트와 테스트 세트의 타깃 클래스 확률을 담은 행렬 만들기\n",
    "Y_train_one_hot = to_one_hot(y_train)\n",
    "Y_valid_one_hot= to_one_hot(y_valid)\n",
    "Y_test_one_hot = to_one_hot(y_test)"
   ]
  },
  {
   "cell_type": "code",
   "execution_count": 16,
   "metadata": {},
   "outputs": [],
   "source": [
    "# 소프트 맥스 함수\n",
    "def softmax(logits):\n",
    "    exps = np.exp(logits)\n",
    "    exp_sums = np.sum(exps, axis=1, keepdims=True)\n",
    "    return exps / exp_sums"
   ]
  },
  {
   "cell_type": "code",
   "execution_count": 20,
   "metadata": {},
   "outputs": [],
   "source": [
    "# 입력과 출력의 갯수 정의\n",
    "n_inputs= X_train.shape[1]\n",
    "n_outputs= len(np.unique(y_train))"
   ]
  },
  {
   "cell_type": "code",
   "execution_count": 21,
   "metadata": {},
   "outputs": [],
   "source": [
    "# 비용함수를 구현하자\n",
    "eta = 0.01\n",
    "n_iterations = 5001\n",
    "m = len(X_train)\n",
    "epsilon = 1e-7\n",
    "\n",
    "Theta =np.random.randn(n_inputs, n_outputs)"
   ]
  },
  {
   "cell_type": "code",
   "execution_count": 22,
   "metadata": {},
   "outputs": [
    {
     "name": "stdout",
     "output_type": "stream",
     "text": [
      "0 5.446205811872683\n",
      "500 0.8350062641405652\n",
      "1000 0.6878801447192402\n",
      "1500 0.6012379137693313\n",
      "2000 0.5444496861981872\n",
      "2500 0.5038530181431525\n",
      "3000 0.4729228972192248\n",
      "3500 0.44824244188957774\n",
      "4000 0.4278651093928792\n",
      "4500 0.4106007142918712\n",
      "5000 0.3956780375390374\n"
     ]
    }
   ],
   "source": [
    "for iteration in range(n_iterations):\n",
    "    logits = X_train.dot(Theta)\n",
    "    Y_proba=softmax(logits)\n",
    "    if iteration%500 ==0:\n",
    "        loss=-np.mean(np.sum(Y_train_one_hot * np.log(Y_proba+epsilon),axis=1))\n",
    "        print(iteration, loss)\n",
    "    error =Y_proba-Y_train_one_hot\n",
    "    gradients = 1/m * X_train.T.dot(error)\n",
    "    Theta = Theta - eta * gradients"
   ]
  },
  {
   "cell_type": "markdown",
   "metadata": {},
   "source": [
    "#### soft-max 훈련 완료"
   ]
  },
  {
   "cell_type": "code",
   "execution_count": 24,
   "metadata": {},
   "outputs": [
    {
     "data": {
      "text/plain": [
       "array([[ 3.32094157, -0.6501102 , -2.99979416],\n",
       "       [-1.1718465 ,  0.11706172,  0.10507543],\n",
       "       [-0.70224261, -0.09527802,  1.4786383 ]])"
      ]
     },
     "execution_count": 24,
     "metadata": {},
     "output_type": "execute_result"
    }
   ],
   "source": [
    "Theta  # model 파라미터"
   ]
  },
  {
   "cell_type": "code",
   "execution_count": 26,
   "metadata": {},
   "outputs": [
    {
     "data": {
      "text/plain": [
       "0.9666666666666667"
      ]
     },
     "execution_count": 26,
     "metadata": {},
     "output_type": "execute_result"
    }
   ],
   "source": [
    "logits=X_valid.dot(Theta)\n",
    "Y_proba=softmax(logits)\n",
    "y_predict = np.argmax(Y_proba, axis=1)\n",
    "accuracy_score = np.mean(y_predict == y_valid)\n",
    "accuracy_score   #정확도 확인"
   ]
  },
  {
   "cell_type": "markdown",
   "metadata": {},
   "source": [
    "#### L2규제 해보자"
   ]
  },
  {
   "cell_type": "code",
   "execution_count": 29,
   "metadata": {},
   "outputs": [],
   "source": [
    "eta = 0.01\n",
    "n_iterations = 5001\n",
    "m = len(X_train)\n",
    "epsilon = 1e-7\n",
    "alpha= 0.1 #규제 파라미터\n",
    "\n",
    "Theta = np.random.randn(n_inputs, n_outputs)"
   ]
  },
  {
   "cell_type": "code",
   "execution_count": 30,
   "metadata": {},
   "outputs": [
    {
     "name": "stdout",
     "output_type": "stream",
     "text": [
      "0 5.401014020496038\n",
      "500 0.9057746237871946\n",
      "1000 0.7546451358045129\n",
      "1500 0.677898020634155\n",
      "2000 0.633156395629338\n",
      "2500 0.6040928899583043\n",
      "3000 0.5836979468114086\n",
      "3500 0.5685796152886732\n",
      "4000 0.5569165937721949\n",
      "4500 0.5476455924677358\n",
      "5000 0.5401037070007071\n"
     ]
    }
   ],
   "source": [
    "for iteration in range(n_iterations):\n",
    "    logits = X_train.dot(Theta)\n",
    "    Y_proba=softmax(logits)\n",
    "    if iteration%500 ==0:\n",
    "        xentropy_loss=-np.mean(np.sum(Y_train_one_hot * np.log(Y_proba+epsilon),axis=1))\n",
    "        l2_loss= 1/2* np.sum(np.square(Theta[1:]))\n",
    "        loss=xentropy_loss+alpha*l2_loss\n",
    "        print(iteration, loss)\n",
    "    error =Y_proba-Y_train_one_hot\n",
    "    gradients = 1/m * X_train.T.dot(error) +np.r_[np.zeros([1,n_outputs]),alpha*Theta[1:]]\n",
    "    Theta = Theta - eta * gradients"
   ]
  },
  {
   "cell_type": "code",
   "execution_count": null,
   "metadata": {},
   "outputs": [],
   "source": []
  }
 ],
 "metadata": {
  "colab": {
   "authorship_tag": "ABX9TyO+GMKhXO4kI5t89kSoxvjI",
   "collapsed_sections": [],
   "name": "모델훈련.ipynb",
   "provenance": []
  },
  "kernelspec": {
   "display_name": "Python 3",
   "language": "python",
   "name": "python3"
  },
  "language_info": {
   "codemirror_mode": {
    "name": "ipython",
    "version": 3
   },
   "file_extension": ".py",
   "mimetype": "text/x-python",
   "name": "python",
   "nbconvert_exporter": "python",
   "pygments_lexer": "ipython3",
   "version": "3.8.5"
  }
 },
 "nbformat": 4,
 "nbformat_minor": 1
}
