{
  "nbformat": 4,
  "nbformat_minor": 0,
  "metadata": {
    "colab": {
      "name": "1220_PCA.ipynb",
      "provenance": []
    },
    "kernelspec": {
      "name": "python3",
      "display_name": "Python 3"
    },
    "language_info": {
      "name": "python"
    }
  },
  "cells": [
    {
      "cell_type": "code",
      "source": [
        "from sklearn.ensemble import RandomForestClassifier\n",
        "from sklearn.ensemble import VotingClassifier\n",
        "from sklearn.linear_model import LogisticRegression\n",
        "from sklearn.svm import SVC"
      ],
      "metadata": {
        "id": "kFK4LW4LlYVA"
      },
      "execution_count": 2,
      "outputs": []
    },
    {
      "cell_type": "code",
      "source": [
        "from sklearn.datasets import make_moons\n",
        "X,y= make_moons(n_samples=100, noise=0.15)\n",
        "from sklearn.model_selection import train_test_split\n",
        "X_train, X_test, y_train, y_test = train_test_split(X, y, test_size=0.4)"
      ],
      "metadata": {
        "id": "YADP0UaFlZHB"
      },
      "execution_count": 3,
      "outputs": []
    },
    {
      "cell_type": "code",
      "execution_count": 4,
      "metadata": {
        "id": "wFohOS9ykeC_"
      },
      "outputs": [],
      "source": [
        "import numpy as np\n",
        "X_centered= X-X.mean(axis=0)\n",
        "U, s, Vt= np.linalg.svd(X_centered)\n",
        "c1= Vt.T[:,0]\n",
        "c2= Vt.T[:,1]"
      ]
    },
    {
      "cell_type": "markdown",
      "source": [
        "#### 8.3.3. d차원으로 투영하기"
      ],
      "metadata": {
        "id": "dq0wnhSul7mE"
      }
    },
    {
      "cell_type": "code",
      "source": [
        "w2=Vt.T[:,:2]\n",
        "X2D=X_centered.dot(w2)"
      ],
      "metadata": {
        "id": "Bnh7Wd2CkrGm"
      },
      "execution_count": 5,
      "outputs": []
    },
    {
      "cell_type": "markdown",
      "source": [
        "8.3.4. 사이킷런 사용하기"
      ],
      "metadata": {
        "id": "ofQ27tEimXQd"
      }
    },
    {
      "cell_type": "code",
      "source": [
        "from sklearn.decomposition import PCA\n",
        "pca=PCA(n_components=2)\n",
        "X2D=pca.fit_transform(X)"
      ],
      "metadata": {
        "id": "nGgNCZIGmkgk"
      },
      "execution_count": 6,
      "outputs": []
    },
    {
      "cell_type": "markdown",
      "source": [
        "8.3.5.설명된 분산의 비율"
      ],
      "metadata": {
        "id": "cv7z0d-hnKKy"
      }
    },
    {
      "cell_type": "code",
      "source": [
        "pca.explained_variance_ratio_"
      ],
      "metadata": {
        "colab": {
          "base_uri": "https://localhost:8080/"
        },
        "id": "4qN6h4w5nRKr",
        "outputId": "df0ba7c5-4eca-44cc-807a-68bc1259e12f"
      },
      "execution_count": 7,
      "outputs": [
        {
          "output_type": "execute_result",
          "data": {
            "text/plain": [
              "array([0.78787178, 0.21212822])"
            ]
          },
          "metadata": {},
          "execution_count": 7
        }
      ]
    },
    {
      "cell_type": "markdown",
      "source": [
        "8.3.6. 적절한 차원 수 선택하기"
      ],
      "metadata": {
        "id": "FnpJicYBoZhV"
      }
    },
    {
      "cell_type": "code",
      "source": [
        "pca=PCA()\n",
        "pca.fit(X_train)\n",
        "cumsum=np.cumsum(pca.explained_variance_ratio_)\n",
        "d=np.argmax(cumsum>=0.95)+1"
      ],
      "metadata": {
        "id": "F0gmW7T7om9i"
      },
      "execution_count": 8,
      "outputs": []
    },
    {
      "cell_type": "code",
      "source": [
        "pca=PCA(n_components=0.95)\n",
        "X_reduced=pca.fit_transform(X_train)"
      ],
      "metadata": {
        "id": "HpOkq2-LpZJ2"
      },
      "execution_count": 9,
      "outputs": []
    },
    {
      "cell_type": "markdown",
      "source": [
        "8.3.7. 압축을 위한 PCA"
      ],
      "metadata": {
        "id": "WW2VL6yNpxPW"
      }
    },
    {
      "cell_type": "code",
      "source": [
        "pca=PCA(n_components=1)\n",
        "X_reduced=pca.fit_transform(X_train)\n",
        "X_recovered=pca.inverse_transform(X_reduced)"
      ],
      "metadata": {
        "id": "HalscGphp1h1"
      },
      "execution_count": 10,
      "outputs": []
    },
    {
      "cell_type": "markdown",
      "source": [
        "8.3.8. 랜덤PCA"
      ],
      "metadata": {
        "id": "uENlRWziq-oU"
      }
    },
    {
      "cell_type": "code",
      "source": [
        "rnd_pca=PCA(n_components=1, svd_solver=\"randomized\")\n",
        "X_reduced=rnd_pca.fit_transform(X_train)"
      ],
      "metadata": {
        "id": "wHpSGP-PrFBF"
      },
      "execution_count": 11,
      "outputs": []
    },
    {
      "cell_type": "code",
      "source": [
        ""
      ],
      "metadata": {
        "id": "fTFhQnBKSugZ"
      },
      "execution_count": null,
      "outputs": []
    }
  ]
}