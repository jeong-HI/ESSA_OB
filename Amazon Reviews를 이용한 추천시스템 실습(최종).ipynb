{
 "cells": [
  {
   "cell_type": "code",
   "execution_count": 1,
   "metadata": {},
   "outputs": [],
   "source": [
    "import numpy as np\n",
    "import pandas as pd\n",
    "import os\n",
    "from IPython.core.interactiveshell import InteractiveShell\n",
    "InteractiveShell.ast_node_interactivity='all'\n",
    "import math\n",
    "import json\n",
    "import time\n",
    "import matplotlib.pyplot as plt\n",
    "import seaborn as sns\n",
    "from sklearn.metrics.pairwise import cosine_similarity\n",
    "from sklearn.model_selection import train_test_split\n",
    "from sklearn.neighbors import NearestNeighbors\n",
    "import scipy.sparse\n",
    "from scipy.sparse import csr_matrix\n",
    "from scipy.sparse.linalg import svds\n",
    "import warnings; warnings.simplefilter('ignore')\n",
    "%matplotlib inline"
   ]
  },
  {
   "cell_type": "code",
   "execution_count": 2,
   "metadata": {},
   "outputs": [],
   "source": [
    "for dirname, _, filenames in os.walk('/kaggle/input'):\n",
    "    for filename in filenames:\n",
    "        print(os.path.join(dirname, filename))"
   ]
  },
  {
   "cell_type": "code",
   "execution_count": 3,
   "metadata": {},
   "outputs": [],
   "source": [
    "electronics_data=pd.read_csv(\"ratings_Electronics (1).csv\", names=['userid','productId','rating','timestamp'])"
   ]
  },
  {
   "cell_type": "code",
   "execution_count": 4,
   "metadata": {},
   "outputs": [
    {
     "data": {
      "text/html": [
       "<div>\n",
       "<style scoped>\n",
       "    .dataframe tbody tr th:only-of-type {\n",
       "        vertical-align: middle;\n",
       "    }\n",
       "\n",
       "    .dataframe tbody tr th {\n",
       "        vertical-align: top;\n",
       "    }\n",
       "\n",
       "    .dataframe thead th {\n",
       "        text-align: right;\n",
       "    }\n",
       "</style>\n",
       "<table border=\"1\" class=\"dataframe\">\n",
       "  <thead>\n",
       "    <tr style=\"text-align: right;\">\n",
       "      <th></th>\n",
       "      <th>userid</th>\n",
       "      <th>productId</th>\n",
       "      <th>rating</th>\n",
       "      <th>timestamp</th>\n",
       "    </tr>\n",
       "  </thead>\n",
       "  <tbody>\n",
       "    <tr>\n",
       "      <th>0</th>\n",
       "      <td>AKM1MP6P0OYPR</td>\n",
       "      <td>0132793040</td>\n",
       "      <td>5.0</td>\n",
       "      <td>1365811200</td>\n",
       "    </tr>\n",
       "    <tr>\n",
       "      <th>1</th>\n",
       "      <td>A2CX7LUOHB2NDG</td>\n",
       "      <td>0321732944</td>\n",
       "      <td>5.0</td>\n",
       "      <td>1341100800</td>\n",
       "    </tr>\n",
       "    <tr>\n",
       "      <th>2</th>\n",
       "      <td>A2NWSAGRHCP8N5</td>\n",
       "      <td>0439886341</td>\n",
       "      <td>1.0</td>\n",
       "      <td>1367193600</td>\n",
       "    </tr>\n",
       "    <tr>\n",
       "      <th>3</th>\n",
       "      <td>A2WNBOD3WNDNKT</td>\n",
       "      <td>0439886341</td>\n",
       "      <td>3.0</td>\n",
       "      <td>1374451200</td>\n",
       "    </tr>\n",
       "    <tr>\n",
       "      <th>4</th>\n",
       "      <td>A1GI0U4ZRJA8WN</td>\n",
       "      <td>0439886341</td>\n",
       "      <td>1.0</td>\n",
       "      <td>1334707200</td>\n",
       "    </tr>\n",
       "  </tbody>\n",
       "</table>\n",
       "</div>"
      ],
      "text/plain": [
       "           userid   productId  rating   timestamp\n",
       "0   AKM1MP6P0OYPR  0132793040     5.0  1365811200\n",
       "1  A2CX7LUOHB2NDG  0321732944     5.0  1341100800\n",
       "2  A2NWSAGRHCP8N5  0439886341     1.0  1367193600\n",
       "3  A2WNBOD3WNDNKT  0439886341     3.0  1374451200\n",
       "4  A1GI0U4ZRJA8WN  0439886341     1.0  1334707200"
      ]
     },
     "execution_count": 4,
     "metadata": {},
     "output_type": "execute_result"
    }
   ],
   "source": [
    "electronics_data.head()"
   ]
  },
  {
   "cell_type": "code",
   "execution_count": 5,
   "metadata": {},
   "outputs": [
    {
     "data": {
      "text/plain": [
       "(7824482, 4)"
      ]
     },
     "execution_count": 5,
     "metadata": {},
     "output_type": "execute_result"
    }
   ],
   "source": [
    "electronics_data.shape"
   ]
  },
  {
   "cell_type": "code",
   "execution_count": 6,
   "metadata": {},
   "outputs": [],
   "source": [
    "eletronics_data=electronics_data.iloc[:1048576,0:]"
   ]
  },
  {
   "cell_type": "code",
   "execution_count": 7,
   "metadata": {},
   "outputs": [
    {
     "data": {
      "text/plain": [
       "userid        object\n",
       "productId     object\n",
       "rating       float64\n",
       "timestamp      int64\n",
       "dtype: object"
      ]
     },
     "execution_count": 7,
     "metadata": {},
     "output_type": "execute_result"
    }
   ],
   "source": [
    "eletronics_data.dtypes"
   ]
  },
  {
   "cell_type": "code",
   "execution_count": 8,
   "metadata": {},
   "outputs": [
    {
     "data": {
      "text/plain": [
       "count    1.048576e+06\n",
       "mean     3.973380e+00\n",
       "std      1.399329e+00\n",
       "min      1.000000e+00\n",
       "25%      3.000000e+00\n",
       "50%      5.000000e+00\n",
       "75%      5.000000e+00\n",
       "max      5.000000e+00\n",
       "Name: rating, dtype: float64"
      ]
     },
     "execution_count": 8,
     "metadata": {},
     "output_type": "execute_result"
    }
   ],
   "source": [
    "eletronics_data.describe()['rating'].T"
   ]
  },
  {
   "cell_type": "code",
   "execution_count": 9,
   "metadata": {},
   "outputs": [
    {
     "name": "stdout",
     "output_type": "stream",
     "text": [
      "max of rating : 5\n",
      "min of rating : 1\n"
     ]
    }
   ],
   "source": [
    "print(\"max of rating : %d\" %(eletronics_data.rating.max()))\n",
    "print(\"min of rating : %d\" %(eletronics_data.rating.min()))"
   ]
  },
  {
   "cell_type": "code",
   "execution_count": null,
   "metadata": {},
   "outputs": [],
   "source": []
  },
  {
   "cell_type": "markdown",
   "metadata": {},
   "source": [
    "### Missing value수"
   ]
  },
  {
   "cell_type": "code",
   "execution_count": 10,
   "metadata": {},
   "outputs": [
    {
     "name": "stdout",
     "output_type": "stream",
     "text": [
      "Number of missing values across columns: \n",
      " userid       0\n",
      "productId    0\n",
      "rating       0\n",
      "timestamp    0\n",
      "dtype: int64\n"
     ]
    }
   ],
   "source": [
    "print('Number of missing values across columns: \\n',eletronics_data.isnull().sum())"
   ]
  },
  {
   "cell_type": "code",
   "execution_count": null,
   "metadata": {},
   "outputs": [],
   "source": []
  },
  {
   "cell_type": "markdown",
   "metadata": {},
   "source": [
    "### Ratings"
   ]
  },
  {
   "cell_type": "code",
   "execution_count": 11,
   "metadata": {},
   "outputs": [
    {
     "data": {
      "text/plain": [
       "<seaborn.axisgrid.FacetGrid at 0x1d69d580580>"
      ]
     },
     "execution_count": 11,
     "metadata": {},
     "output_type": "execute_result"
    },
    {
     "data": {
      "image/png": "[encoded data removed]",
      "text/plain": [
       "<Figure size 720x360 with 1 Axes>"
      ]
     },
     "metadata": {},
     "output_type": "display_data"
    }
   ],
   "source": [
    "with sns.axes_style('white'):\n",
    "    g = sns.factorplot(\"rating\", data  = eletronics_data, aspect = 2.0, kind = 'count')\n",
    "    g.set_ylabels(\"Total number of ratings\")"
   ]
  },
  {
   "cell_type": "code",
   "execution_count": 12,
   "metadata": {},
   "outputs": [
    {
     "name": "stdout",
     "output_type": "stream",
     "text": [
      "total data\n",
      "--------------------------------------------------\n",
      "\n",
      "Total num of ratings : 1048576\n",
      "Total num of Users : 786330\n",
      "Total num of products:  61894\n"
     ]
    }
   ],
   "source": [
    "print('total data')\n",
    "print('-'*50)\n",
    "print(\"\\nTotal num of ratings :\", eletronics_data.shape[0])\n",
    "print(\"Total num of Users :\", len(np.unique(eletronics_data.userid )))\n",
    "print(\"Total num of products: \", len(np.unique(eletronics_data.productId)))"
   ]
  },
  {
   "cell_type": "code",
   "execution_count": 13,
   "metadata": {},
   "outputs": [],
   "source": [
    "eletronics_data.drop(['timestamp'],axis = 1, inplace = True)"
   ]
  },
  {
   "cell_type": "code",
   "execution_count": 14,
   "metadata": {},
   "outputs": [
    {
     "data": {
      "text/html": [
       "<div>\n",
       "<style scoped>\n",
       "    .dataframe tbody tr th:only-of-type {\n",
       "        vertical-align: middle;\n",
       "    }\n",
       "\n",
       "    .dataframe tbody tr th {\n",
       "        vertical-align: top;\n",
       "    }\n",
       "\n",
       "    .dataframe thead th {\n",
       "        text-align: right;\n",
       "    }\n",
       "</style>\n",
       "<table border=\"1\" class=\"dataframe\">\n",
       "  <thead>\n",
       "    <tr style=\"text-align: right;\">\n",
       "      <th></th>\n",
       "      <th>userid</th>\n",
       "      <th>productId</th>\n",
       "      <th>rating</th>\n",
       "    </tr>\n",
       "  </thead>\n",
       "  <tbody>\n",
       "    <tr>\n",
       "      <th>0</th>\n",
       "      <td>AKM1MP6P0OYPR</td>\n",
       "      <td>0132793040</td>\n",
       "      <td>5.0</td>\n",
       "    </tr>\n",
       "    <tr>\n",
       "      <th>1</th>\n",
       "      <td>A2CX7LUOHB2NDG</td>\n",
       "      <td>0321732944</td>\n",
       "      <td>5.0</td>\n",
       "    </tr>\n",
       "    <tr>\n",
       "      <th>2</th>\n",
       "      <td>A2NWSAGRHCP8N5</td>\n",
       "      <td>0439886341</td>\n",
       "      <td>1.0</td>\n",
       "    </tr>\n",
       "    <tr>\n",
       "      <th>3</th>\n",
       "      <td>A2WNBOD3WNDNKT</td>\n",
       "      <td>0439886341</td>\n",
       "      <td>3.0</td>\n",
       "    </tr>\n",
       "    <tr>\n",
       "      <th>4</th>\n",
       "      <td>A1GI0U4ZRJA8WN</td>\n",
       "      <td>0439886341</td>\n",
       "      <td>1.0</td>\n",
       "    </tr>\n",
       "  </tbody>\n",
       "</table>\n",
       "</div>"
      ],
      "text/plain": [
       "           userid   productId  rating\n",
       "0   AKM1MP6P0OYPR  0132793040     5.0\n",
       "1  A2CX7LUOHB2NDG  0321732944     5.0\n",
       "2  A2NWSAGRHCP8N5  0439886341     1.0\n",
       "3  A2WNBOD3WNDNKT  0439886341     3.0\n",
       "4  A1GI0U4ZRJA8WN  0439886341     1.0"
      ]
     },
     "execution_count": 14,
     "metadata": {},
     "output_type": "execute_result"
    }
   ],
   "source": [
    "eletronics_data.head()"
   ]
  },
  {
   "cell_type": "markdown",
   "metadata": {},
   "source": [
    "### Rating 분석"
   ]
  },
  {
   "cell_type": "code",
   "execution_count": 15,
   "metadata": {},
   "outputs": [
    {
     "data": {
      "text/plain": [
       "userid\n",
       "A5JLAU2ARJ0BO     412\n",
       "A231WM2Z2JL0U3    249\n",
       "A25HBO5V8S8SEA    164\n",
       "A6FIAB28IS79      146\n",
       "AT6CZDCP4TRGA     128\n",
       "Name: rating, dtype: int64"
      ]
     },
     "execution_count": 15,
     "metadata": {},
     "output_type": "execute_result"
    }
   ],
   "source": [
    "num_of_rated_products_per_user = eletronics_data.groupby(by = 'userid')['rating'].count().sort_values(ascending=False)\n",
    "num_of_rated_products_per_user.head()"
   ]
  },
  {
   "cell_type": "code",
   "execution_count": 16,
   "metadata": {},
   "outputs": [
    {
     "data": {
      "text/plain": [
       "count    786330.000000\n",
       "mean          1.333506\n",
       "std           1.385612\n",
       "min           1.000000\n",
       "25%           1.000000\n",
       "50%           1.000000\n",
       "75%           1.000000\n",
       "max         412.000000\n",
       "Name: rating, dtype: float64"
      ]
     },
     "execution_count": 16,
     "metadata": {},
     "output_type": "execute_result"
    }
   ],
   "source": [
    "num_of_rated_products_per_user.describe()"
   ]
  },
  {
   "cell_type": "markdown",
   "metadata": {},
   "source": [
    "#### 거의 모든 user들이 하나의 product에만 평가한 것을 확인 가능하다"
   ]
  },
  {
   "cell_type": "code",
   "execution_count": 17,
   "metadata": {},
   "outputs": [],
   "source": [
    "quantiles=num_of_rated_products_per_user.quantile(np.arange(0,1.01,0.01), interpolation='higher')"
   ]
  },
  {
   "cell_type": "code",
   "execution_count": 18,
   "metadata": {},
   "outputs": [
    {
     "data": {
      "text/plain": [
       "0.00      1\n",
       "0.01      1\n",
       "0.02      1\n",
       "0.03      1\n",
       "0.04      1\n",
       "       ... \n",
       "0.96      3\n",
       "0.97      4\n",
       "0.98      4\n",
       "0.99      6\n",
       "1.00    412\n",
       "Name: rating, Length: 101, dtype: int64"
      ]
     },
     "execution_count": 18,
     "metadata": {},
     "output_type": "execute_result"
    }
   ],
   "source": [
    "quantiles"
   ]
  },
  {
   "cell_type": "code",
   "execution_count": 19,
   "metadata": {
    "scrolled": true
   },
   "outputs": [
    {
     "data": {
      "text/plain": [
       "<Figure size 720x720 with 0 Axes>"
      ]
     },
     "execution_count": 19,
     "metadata": {},
     "output_type": "execute_result"
    },
    {
     "data": {
      "text/plain": [
       "Text(0.5, 1.0, 'Quantilesand their Values')"
      ]
     },
     "execution_count": 19,
     "metadata": {},
     "output_type": "execute_result"
    },
    {
     "data": {
      "text/plain": [
       "<AxesSubplot:title={'center':'Quantilesand their Values'}>"
      ]
     },
     "execution_count": 19,
     "metadata": {},
     "output_type": "execute_result"
    },
    {
     "data": {
      "text/plain": [
       "<matplotlib.collections.PathCollection at 0x1d69d76a6d0>"
      ]
     },
     "execution_count": 19,
     "metadata": {},
     "output_type": "execute_result"
    },
    {
     "data": {
      "text/plain": [
       "<matplotlib.collections.PathCollection at 0x1d69d76a820>"
      ]
     },
     "execution_count": 19,
     "metadata": {},
     "output_type": "execute_result"
    },
    {
     "data": {
      "text/plain": [
       "Text(0, 0.5, 'No of ratings by user')"
      ]
     },
     "execution_count": 19,
     "metadata": {},
     "output_type": "execute_result"
    },
    {
     "data": {
      "text/plain": [
       "Text(0.5, 0, 'Value at the quantile')"
      ]
     },
     "execution_count": 19,
     "metadata": {},
     "output_type": "execute_result"
    },
    {
     "data": {
      "text/plain": [
       "<matplotlib.legend.Legend at 0x1d69d76ac40>"
      ]
     },
     "execution_count": 19,
     "metadata": {},
     "output_type": "execute_result"
    },
    {
     "data": {
      "image/png": "[encoded data removed]",
      "text/plain": [
       "<Figure size 720x720 with 1 Axes>"
      ]
     },
     "metadata": {
      "needs_background": "light"
     },
     "output_type": "display_data"
    }
   ],
   "source": [
    "plt.figure(figsize=(10,10))\n",
    "plt.title('Quantilesand their Values')\n",
    "quantiles.plot()\n",
    "\n",
    "plt.scatter(x=quantiles.index[::5], y=quantiles.values[::5], c='orange', label=\"quantiles with 0.05 intervals\")\n",
    "plt.scatter(x=quantiles.index[::25], y=quantiles.values[::25], c='m', label = \"quantiles with 0.25 intervals\")\n",
    "plt.ylabel('No of ratings by user')\n",
    "plt.xlabel('Value at the quantile')\n",
    "plt.legend(loc='best')\n",
    "plt.show()"
   ]
  },
  {
   "cell_type": "markdown",
   "metadata": {},
   "source": [
    "### popularity Based Recommendation"
   ]
  },
  {
   "cell_type": "code",
   "execution_count": 20,
   "metadata": {},
   "outputs": [],
   "source": [
    "#평가가 50번 이상 된 상품들을 가져옴\n",
    "new_df=electronics_data.groupby(\"productId\").filter(lambda x:x['rating'].count() >=50)"
   ]
  },
  {
   "cell_type": "code",
   "execution_count": 21,
   "metadata": {},
   "outputs": [
    {
     "data": {
      "text/html": [
       "<div>\n",
       "<style scoped>\n",
       "    .dataframe tbody tr th:only-of-type {\n",
       "        vertical-align: middle;\n",
       "    }\n",
       "\n",
       "    .dataframe tbody tr th {\n",
       "        vertical-align: top;\n",
       "    }\n",
       "\n",
       "    .dataframe thead th {\n",
       "        text-align: right;\n",
       "    }\n",
       "</style>\n",
       "<table border=\"1\" class=\"dataframe\">\n",
       "  <thead>\n",
       "    <tr style=\"text-align: right;\">\n",
       "      <th></th>\n",
       "      <th>userid</th>\n",
       "      <th>productId</th>\n",
       "      <th>rating</th>\n",
       "      <th>timestamp</th>\n",
       "    </tr>\n",
       "  </thead>\n",
       "  <tbody>\n",
       "    <tr>\n",
       "      <th>183</th>\n",
       "      <td>A1BKC6B7YHYTVV</td>\n",
       "      <td>0972683275</td>\n",
       "      <td>4.0</td>\n",
       "      <td>1405382400</td>\n",
       "    </tr>\n",
       "    <tr>\n",
       "      <th>184</th>\n",
       "      <td>AWVFSIB42LHKJ</td>\n",
       "      <td>0972683275</td>\n",
       "      <td>4.0</td>\n",
       "      <td>1405209600</td>\n",
       "    </tr>\n",
       "    <tr>\n",
       "      <th>185</th>\n",
       "      <td>A36MQBNADRH8YY</td>\n",
       "      <td>0972683275</td>\n",
       "      <td>5.0</td>\n",
       "      <td>1405641600</td>\n",
       "    </tr>\n",
       "    <tr>\n",
       "      <th>186</th>\n",
       "      <td>A3SRXMPLAEZ6DP</td>\n",
       "      <td>0972683275</td>\n",
       "      <td>4.0</td>\n",
       "      <td>1405987200</td>\n",
       "    </tr>\n",
       "    <tr>\n",
       "      <th>187</th>\n",
       "      <td>A20XXTXWF2TCPY</td>\n",
       "      <td>0972683275</td>\n",
       "      <td>5.0</td>\n",
       "      <td>1405123200</td>\n",
       "    </tr>\n",
       "  </tbody>\n",
       "</table>\n",
       "</div>"
      ],
      "text/plain": [
       "             userid   productId  rating   timestamp\n",
       "183  A1BKC6B7YHYTVV  0972683275     4.0  1405382400\n",
       "184   AWVFSIB42LHKJ  0972683275     4.0  1405209600\n",
       "185  A36MQBNADRH8YY  0972683275     5.0  1405641600\n",
       "186  A3SRXMPLAEZ6DP  0972683275     4.0  1405987200\n",
       "187  A20XXTXWF2TCPY  0972683275     5.0  1405123200"
      ]
     },
     "execution_count": 21,
     "metadata": {},
     "output_type": "execute_result"
    }
   ],
   "source": [
    "new_df.head()"
   ]
  },
  {
   "cell_type": "code",
   "execution_count": 22,
   "metadata": {},
   "outputs": [
    {
     "data": {
      "text/plain": [
       "(5374313, 4)"
      ]
     },
     "execution_count": 22,
     "metadata": {},
     "output_type": "execute_result"
    }
   ],
   "source": [
    "new_df.shape"
   ]
  },
  {
   "cell_type": "code",
   "execution_count": 23,
   "metadata": {},
   "outputs": [
    {
     "data": {
      "text/plain": [
       "[<matplotlib.lines.Line2D at 0x1d69d7eba60>]"
      ]
     },
     "execution_count": 23,
     "metadata": {},
     "output_type": "execute_result"
    },
    {
     "data": {
      "text/plain": [
       "Text(0.5, 1.0, '# RATINGS per Product')"
      ]
     },
     "execution_count": 23,
     "metadata": {},
     "output_type": "execute_result"
    },
    {
     "data": {
      "text/plain": [
       "Text(0.5, 0, 'Product')"
      ]
     },
     "execution_count": 23,
     "metadata": {},
     "output_type": "execute_result"
    },
    {
     "data": {
      "text/plain": [
       "Text(0, 0.5, 'No of ratings per product')"
      ]
     },
     "execution_count": 23,
     "metadata": {},
     "output_type": "execute_result"
    },
    {
     "data": {
      "text/plain": [
       "[Text(-5000.0, 0, ''),\n",
       " Text(0.0, 0, ''),\n",
       " Text(5000.0, 0, ''),\n",
       " Text(10000.0, 0, ''),\n",
       " Text(15000.0, 0, ''),\n",
       " Text(20000.0, 0, ''),\n",
       " Text(25000.0, 0, ''),\n",
       " Text(30000.0, 0, '')]"
      ]
     },
     "execution_count": 23,
     "metadata": {},
     "output_type": "execute_result"
    },
    {
     "data": {
      "image/png": "[encoded data removed]",
      "text/plain": [
       "<Figure size 576x288 with 1 Axes>"
      ]
     },
     "metadata": {
      "needs_background": "light"
     },
     "output_type": "display_data"
    }
   ],
   "source": [
    "num_of_ratings_per_product = new_df.groupby(by='productId')['rating'].count().sort_values(ascending=False)\n",
    "\n",
    "fig = plt.figure(figsize=plt.figaspect(.5))\n",
    "ax = plt.gca()\n",
    "plt.plot(num_of_ratings_per_product.values)\n",
    "plt.title('# RATINGS per Product')\n",
    "plt.xlabel('Product')\n",
    "plt.ylabel('No of ratings per product')\n",
    "ax.set_xticklabels([])\n",
    "\n",
    "plt.show()"
   ]
  },
  {
   "cell_type": "code",
   "execution_count": 24,
   "metadata": {},
   "outputs": [
    {
     "data": {
      "text/plain": [
       "productId\n",
       "0972683275    4.470980\n",
       "1400501466    3.560000\n",
       "1400501520    4.243902\n",
       "1400501776    3.884892\n",
       "1400532620    3.684211\n",
       "Name: rating, dtype: float64"
      ]
     },
     "execution_count": 24,
     "metadata": {},
     "output_type": "execute_result"
    }
   ],
   "source": [
    "new_df.groupby('productId')['rating'].mean().head()"
   ]
  },
  {
   "cell_type": "code",
   "execution_count": 25,
   "metadata": {},
   "outputs": [
    {
     "data": {
      "text/plain": [
       "productId\n",
       "B002E6R7NG    4.980392\n",
       "B004I763AW    4.966667\n",
       "B003J9QQWU    4.964286\n",
       "B0043ZLFXE    4.955556\n",
       "B000TMFYBO    4.953125\n",
       "Name: rating, dtype: float64"
      ]
     },
     "execution_count": 25,
     "metadata": {},
     "output_type": "execute_result"
    }
   ],
   "source": [
    "new_df.groupby('productId')['rating'].mean().sort_values(ascending=False).head()"
   ]
  },
  {
   "cell_type": "code",
   "execution_count": 26,
   "metadata": {},
   "outputs": [],
   "source": [
    "#평가된 수를 기준으로 내림차순 정렬"
   ]
  },
  {
   "cell_type": "code",
   "execution_count": 27,
   "metadata": {},
   "outputs": [
    {
     "data": {
      "text/plain": [
       "productId\n",
       "B0074BW614    18244\n",
       "B00DR0PDNE    16454\n",
       "B007WTAJTO    14172\n",
       "B0019EHU8G    12285\n",
       "B006GWO5WK    12226\n",
       "Name: rating, dtype: int64"
      ]
     },
     "execution_count": 27,
     "metadata": {},
     "output_type": "execute_result"
    }
   ],
   "source": [
    "new_df.groupby('productId')['rating'].count().sort_values(ascending=False).head()"
   ]
  },
  {
   "cell_type": "code",
   "execution_count": 28,
   "metadata": {},
   "outputs": [],
   "source": [
    "ratings_mean_count=pd.DataFrame(new_df.groupby('productId')['rating'].mean())"
   ]
  },
  {
   "cell_type": "code",
   "execution_count": 29,
   "metadata": {},
   "outputs": [
    {
     "data": {
      "text/html": [
       "<div>\n",
       "<style scoped>\n",
       "    .dataframe tbody tr th:only-of-type {\n",
       "        vertical-align: middle;\n",
       "    }\n",
       "\n",
       "    .dataframe tbody tr th {\n",
       "        vertical-align: top;\n",
       "    }\n",
       "\n",
       "    .dataframe thead th {\n",
       "        text-align: right;\n",
       "    }\n",
       "</style>\n",
       "<table border=\"1\" class=\"dataframe\">\n",
       "  <thead>\n",
       "    <tr style=\"text-align: right;\">\n",
       "      <th></th>\n",
       "      <th>rating</th>\n",
       "    </tr>\n",
       "    <tr>\n",
       "      <th>productId</th>\n",
       "      <th></th>\n",
       "    </tr>\n",
       "  </thead>\n",
       "  <tbody>\n",
       "    <tr>\n",
       "      <th>0972683275</th>\n",
       "      <td>4.470980</td>\n",
       "    </tr>\n",
       "    <tr>\n",
       "      <th>1400501466</th>\n",
       "      <td>3.560000</td>\n",
       "    </tr>\n",
       "    <tr>\n",
       "      <th>1400501520</th>\n",
       "      <td>4.243902</td>\n",
       "    </tr>\n",
       "    <tr>\n",
       "      <th>1400501776</th>\n",
       "      <td>3.884892</td>\n",
       "    </tr>\n",
       "    <tr>\n",
       "      <th>1400532620</th>\n",
       "      <td>3.684211</td>\n",
       "    </tr>\n",
       "  </tbody>\n",
       "</table>\n",
       "</div>"
      ],
      "text/plain": [
       "              rating\n",
       "productId           \n",
       "0972683275  4.470980\n",
       "1400501466  3.560000\n",
       "1400501520  4.243902\n",
       "1400501776  3.884892\n",
       "1400532620  3.684211"
      ]
     },
     "execution_count": 29,
     "metadata": {},
     "output_type": "execute_result"
    }
   ],
   "source": [
    "ratings_mean_count.head()"
   ]
  },
  {
   "cell_type": "code",
   "execution_count": 30,
   "metadata": {},
   "outputs": [],
   "source": [
    "ratings_mean_count['rating_counts'] = pd.DataFrame(new_df.groupby('productId')['rating'].count())"
   ]
  },
  {
   "cell_type": "code",
   "execution_count": 31,
   "metadata": {},
   "outputs": [
    {
     "data": {
      "text/html": [
       "<div>\n",
       "<style scoped>\n",
       "    .dataframe tbody tr th:only-of-type {\n",
       "        vertical-align: middle;\n",
       "    }\n",
       "\n",
       "    .dataframe tbody tr th {\n",
       "        vertical-align: top;\n",
       "    }\n",
       "\n",
       "    .dataframe thead th {\n",
       "        text-align: right;\n",
       "    }\n",
       "</style>\n",
       "<table border=\"1\" class=\"dataframe\">\n",
       "  <thead>\n",
       "    <tr style=\"text-align: right;\">\n",
       "      <th></th>\n",
       "      <th>rating</th>\n",
       "      <th>rating_counts</th>\n",
       "    </tr>\n",
       "    <tr>\n",
       "      <th>productId</th>\n",
       "      <th></th>\n",
       "      <th></th>\n",
       "    </tr>\n",
       "  </thead>\n",
       "  <tbody>\n",
       "    <tr>\n",
       "      <th>0972683275</th>\n",
       "      <td>4.470980</td>\n",
       "      <td>1051</td>\n",
       "    </tr>\n",
       "    <tr>\n",
       "      <th>1400501466</th>\n",
       "      <td>3.560000</td>\n",
       "      <td>250</td>\n",
       "    </tr>\n",
       "    <tr>\n",
       "      <th>1400501520</th>\n",
       "      <td>4.243902</td>\n",
       "      <td>82</td>\n",
       "    </tr>\n",
       "    <tr>\n",
       "      <th>1400501776</th>\n",
       "      <td>3.884892</td>\n",
       "      <td>139</td>\n",
       "    </tr>\n",
       "    <tr>\n",
       "      <th>1400532620</th>\n",
       "      <td>3.684211</td>\n",
       "      <td>171</td>\n",
       "    </tr>\n",
       "  </tbody>\n",
       "</table>\n",
       "</div>"
      ],
      "text/plain": [
       "              rating  rating_counts\n",
       "productId                          \n",
       "0972683275  4.470980           1051\n",
       "1400501466  3.560000            250\n",
       "1400501520  4.243902             82\n",
       "1400501776  3.884892            139\n",
       "1400532620  3.684211            171"
      ]
     },
     "execution_count": 31,
     "metadata": {},
     "output_type": "execute_result"
    }
   ],
   "source": [
    "ratings_mean_count.head()"
   ]
  },
  {
   "cell_type": "code",
   "execution_count": 32,
   "metadata": {},
   "outputs": [
    {
     "data": {
      "text/plain": [
       "18244"
      ]
     },
     "execution_count": 32,
     "metadata": {},
     "output_type": "execute_result"
    }
   ],
   "source": [
    "ratings_mean_count['rating_counts'].max()"
   ]
  },
  {
   "cell_type": "code",
   "execution_count": 33,
   "metadata": {},
   "outputs": [
    {
     "data": {
      "text/plain": [
       "<Figure size 432x432 with 0 Axes>"
      ]
     },
     "execution_count": 33,
     "metadata": {},
     "output_type": "execute_result"
    },
    {
     "data": {
      "text/plain": [
       "<AxesSubplot:>"
      ]
     },
     "execution_count": 33,
     "metadata": {},
     "output_type": "execute_result"
    },
    {
     "data": {
      "image/png": "[encoded data removed]",
      "text/plain": [
       "<Figure size 432x432 with 1 Axes>"
      ]
     },
     "metadata": {
      "needs_background": "light"
     },
     "output_type": "display_data"
    }
   ],
   "source": [
    "plt.figure(figsize=(6,6))\n",
    "plt.rcParams['patch.force_edgecolor']=True\n",
    "ratings_mean_count['rating_counts'].hist(bins=50)"
   ]
  },
  {
   "cell_type": "code",
   "execution_count": 34,
   "metadata": {},
   "outputs": [
    {
     "data": {
      "text/plain": [
       "<Figure size 576x432 with 0 Axes>"
      ]
     },
     "execution_count": 34,
     "metadata": {},
     "output_type": "execute_result"
    },
    {
     "data": {
      "text/plain": [
       "<AxesSubplot:>"
      ]
     },
     "execution_count": 34,
     "metadata": {},
     "output_type": "execute_result"
    },
    {
     "data": {
      "image/png": "[encoded data removed]",
      "text/plain": [
       "<Figure size 576x432 with 1 Axes>"
      ]
     },
     "metadata": {
      "needs_background": "light"
     },
     "output_type": "display_data"
    }
   ],
   "source": [
    "plt.figure(figsize=(8,6))\n",
    "plt.rcParams['patch.force_edgecolor']=True\n",
    "ratings_mean_count['rating'].hist(bins=50)"
   ]
  },
  {
   "cell_type": "code",
   "execution_count": 35,
   "metadata": {},
   "outputs": [
    {
     "data": {
      "text/plain": [
       "<Figure size 576x432 with 0 Axes>"
      ]
     },
     "execution_count": 35,
     "metadata": {},
     "output_type": "execute_result"
    },
    {
     "data": {
      "text/plain": [
       "<seaborn.axisgrid.JointGrid at 0x1d69dd19550>"
      ]
     },
     "execution_count": 35,
     "metadata": {},
     "output_type": "execute_result"
    },
    {
     "data": {
      "text/plain": [
       "<Figure size 576x432 with 0 Axes>"
      ]
     },
     "metadata": {},
     "output_type": "display_data"
    },
    {
     "data": {
      "image/png": "[encoded data removed]",
      "text/plain": [
       "<Figure size 432x432 with 3 Axes>"
      ]
     },
     "metadata": {
      "needs_background": "light"
     },
     "output_type": "display_data"
    }
   ],
   "source": [
    "plt.figure(figsize=(8,6))\n",
    "plt.rcParams['patch.force_edgecolor'] = True\n",
    "sns.jointplot(x='rating', y='rating_counts', data=ratings_mean_count, alpha=0.4)"
   ]
  },
  {
   "cell_type": "code",
   "execution_count": 36,
   "metadata": {},
   "outputs": [
    {
     "data": {
      "text/plain": [
       "<AxesSubplot:xlabel='productId'>"
      ]
     },
     "execution_count": 36,
     "metadata": {},
     "output_type": "execute_result"
    },
    {
     "data": {
      "image/png": "[encoded data removed]",
      "text/plain": [
       "<Figure size 432x288 with 1 Axes>"
      ]
     },
     "metadata": {
      "needs_background": "light"
     },
     "output_type": "display_data"
    }
   ],
   "source": [
    "popular_products = pd.DataFrame(new_df.groupby('productId')['rating'].count())\n",
    "most_popular = popular_products.sort_values(\"rating\", ascending=False)\n",
    "most_popular.head(30).plot(kind = \"bar\")"
   ]
  },
  {
   "cell_type": "markdown",
   "metadata": {},
   "source": [
    "### Collaborative Filtering이용"
   ]
  },
  {
   "cell_type": "code",
   "execution_count": 37,
   "metadata": {},
   "outputs": [
    {
     "name": "stdout",
     "output_type": "stream",
     "text": [
      "Requirement already satisfied: surprise in c:\\users\\jeong\\anaconda3\\lib\\site-packages (0.1)\n",
      "Requirement already satisfied: scikit-surprise in c:\\users\\jeong\\anaconda3\\lib\\site-packages (from surprise) (1.1.1)\n",
      "Requirement already satisfied: six>=1.10.0 in c:\\users\\jeong\\anaconda3\\lib\\site-packages (from scikit-surprise->surprise) (1.15.0)\n",
      "Requirement already satisfied: scipy>=1.0.0 in c:\\users\\jeong\\anaconda3\\lib\\site-packages (from scikit-surprise->surprise) (1.5.2)\n",
      "Requirement already satisfied: joblib>=0.11 in c:\\users\\jeong\\anaconda3\\lib\\site-packages (from scikit-surprise->surprise) (0.17.0)\n",
      "Requirement already satisfied: numpy>=1.11.2 in c:\\users\\jeong\\anaconda3\\lib\\site-packages (from scikit-surprise->surprise) (1.19.5)\n"
     ]
    }
   ],
   "source": [
    "!pip3 install surprise"
   ]
  },
  {
   "cell_type": "code",
   "execution_count": 38,
   "metadata": {},
   "outputs": [],
   "source": [
    "from surprise import KNNWithMeans\n",
    "from surprise import Dataset\n",
    "from surprise import accuracy\n",
    "from surprise import Reader\n",
    "import os\n",
    "from surprise.model_selection import train_test_split"
   ]
  },
  {
   "cell_type": "markdown",
   "metadata": {},
   "source": [
    "## data 가져오기"
   ]
  },
  {
   "cell_type": "code",
   "execution_count": 39,
   "metadata": {},
   "outputs": [],
   "source": [
    "new_df.drop(['timestamp'],axis=1, inplace=True)\n"
   ]
  },
  {
   "cell_type": "code",
   "execution_count": 40,
   "metadata": {},
   "outputs": [],
   "source": [
    "reader= Reader(rating_scale=(1,5))\n",
    "data=Dataset.load_from_df(new_df, reader)"
   ]
  },
  {
   "cell_type": "markdown",
   "metadata": {},
   "source": [
    "## trainset, testset으로 나누기"
   ]
  },
  {
   "cell_type": "code",
   "execution_count": 41,
   "metadata": {},
   "outputs": [],
   "source": [
    "trainset, testset= train_test_split(data, test_size=0.3, random_state=10)"
   ]
  },
  {
   "cell_type": "markdown",
   "metadata": {},
   "source": [
    "## KNN을 이용 trainset에 파라미터 맞추기"
   ]
  },
  {
   "cell_type": "code",
   "execution_count": 43,
   "metadata": {},
   "outputs": [
    {
     "name": "stdout",
     "output_type": "stream",
     "text": [
      "Estimating biases using als...\n",
      "Computing the pearson_baseline similarity matrix...\n",
      "Done computing similarity matrix.\n"
     ]
    },
    {
     "data": {
      "text/plain": [
       "<surprise.prediction_algorithms.knns.KNNWithMeans at 0x1d69d7d8df0>"
      ]
     },
     "execution_count": 43,
     "metadata": {},
     "output_type": "execute_result"
    }
   ],
   "source": [
    "algo = KNNWithMeans(k=5, sim_options = {'name': 'pearson_baseline', 'user_based':False})\n",
    "algo.fit(trainset)"
   ]
  },
  {
   "cell_type": "markdown",
   "metadata": {},
   "source": [
    "## Test accuracy 측정"
   ]
  },
  {
   "cell_type": "code",
   "execution_count": 44,
   "metadata": {},
   "outputs": [],
   "source": [
    "test_pred= algo.test(testset)"
   ]
  },
  {
   "cell_type": "code",
   "execution_count": 45,
   "metadata": {},
   "outputs": [
    {
     "name": "stdout",
     "output_type": "stream",
     "text": [
      "item-based Model : Test Set\n",
      "RMSE: 1.3335\n"
     ]
    },
    {
     "data": {
      "text/plain": [
       "1.3334560899557941"
      ]
     },
     "execution_count": 45,
     "metadata": {},
     "output_type": "execute_result"
    }
   ],
   "source": [
    "print('item-based Model : Test Set')\n",
    "accuracy.rmse(test_pred, verbose=True)"
   ]
  },
  {
   "cell_type": "markdown",
   "metadata": {},
   "source": [
    "## Model-based collaborative filtering system"
   ]
  },
  {
   "cell_type": "code",
   "execution_count": 46,
   "metadata": {},
   "outputs": [],
   "source": [
    "# 대량의 sample, 많은 사용자들에거 추천 가능, sparse한 matrices에도 사용가능"
   ]
  },
  {
   "cell_type": "code",
   "execution_count": 56,
   "metadata": {},
   "outputs": [
    {
     "data": {
      "text/html": [
       "<div>\n",
       "<style scoped>\n",
       "    .dataframe tbody tr th:only-of-type {\n",
       "        vertical-align: middle;\n",
       "    }\n",
       "\n",
       "    .dataframe tbody tr th {\n",
       "        vertical-align: top;\n",
       "    }\n",
       "\n",
       "    .dataframe thead th {\n",
       "        text-align: right;\n",
       "    }\n",
       "</style>\n",
       "<table border=\"1\" class=\"dataframe\">\n",
       "  <thead>\n",
       "    <tr style=\"text-align: right;\">\n",
       "      <th></th>\n",
       "      <th>userid</th>\n",
       "      <th>productId</th>\n",
       "      <th>rating</th>\n",
       "    </tr>\n",
       "  </thead>\n",
       "  <tbody>\n",
       "    <tr>\n",
       "      <th>183</th>\n",
       "      <td>A1BKC6B7YHYTVV</td>\n",
       "      <td>0972683275</td>\n",
       "      <td>4.0</td>\n",
       "    </tr>\n",
       "    <tr>\n",
       "      <th>184</th>\n",
       "      <td>AWVFSIB42LHKJ</td>\n",
       "      <td>0972683275</td>\n",
       "      <td>4.0</td>\n",
       "    </tr>\n",
       "    <tr>\n",
       "      <th>185</th>\n",
       "      <td>A36MQBNADRH8YY</td>\n",
       "      <td>0972683275</td>\n",
       "      <td>5.0</td>\n",
       "    </tr>\n",
       "    <tr>\n",
       "      <th>186</th>\n",
       "      <td>A3SRXMPLAEZ6DP</td>\n",
       "      <td>0972683275</td>\n",
       "      <td>4.0</td>\n",
       "    </tr>\n",
       "    <tr>\n",
       "      <th>187</th>\n",
       "      <td>A20XXTXWF2TCPY</td>\n",
       "      <td>0972683275</td>\n",
       "      <td>5.0</td>\n",
       "    </tr>\n",
       "    <tr>\n",
       "      <th>188</th>\n",
       "      <td>AOZZ0CTG5RMW1</td>\n",
       "      <td>0972683275</td>\n",
       "      <td>4.0</td>\n",
       "    </tr>\n",
       "    <tr>\n",
       "      <th>189</th>\n",
       "      <td>A2IDCSC6NVONIZ</td>\n",
       "      <td>0972683275</td>\n",
       "      <td>5.0</td>\n",
       "    </tr>\n",
       "    <tr>\n",
       "      <th>190</th>\n",
       "      <td>AML8NIWFKHZJU</td>\n",
       "      <td>0972683275</td>\n",
       "      <td>3.0</td>\n",
       "    </tr>\n",
       "    <tr>\n",
       "      <th>191</th>\n",
       "      <td>A33HBPL7Q6SZMG</td>\n",
       "      <td>0972683275</td>\n",
       "      <td>5.0</td>\n",
       "    </tr>\n",
       "    <tr>\n",
       "      <th>192</th>\n",
       "      <td>A22JDDJB1ZLGGZ</td>\n",
       "      <td>0972683275</td>\n",
       "      <td>5.0</td>\n",
       "    </tr>\n",
       "  </tbody>\n",
       "</table>\n",
       "</div>"
      ],
      "text/plain": [
       "             userid   productId  rating\n",
       "183  A1BKC6B7YHYTVV  0972683275     4.0\n",
       "184   AWVFSIB42LHKJ  0972683275     4.0\n",
       "185  A36MQBNADRH8YY  0972683275     5.0\n",
       "186  A3SRXMPLAEZ6DP  0972683275     4.0\n",
       "187  A20XXTXWF2TCPY  0972683275     5.0\n",
       "188   AOZZ0CTG5RMW1  0972683275     4.0\n",
       "189  A2IDCSC6NVONIZ  0972683275     5.0\n",
       "190   AML8NIWFKHZJU  0972683275     3.0\n",
       "191  A33HBPL7Q6SZMG  0972683275     5.0\n",
       "192  A22JDDJB1ZLGGZ  0972683275     5.0"
      ]
     },
     "execution_count": 56,
     "metadata": {},
     "output_type": "execute_result"
    }
   ],
   "source": [
    "new_df1= new_df.head(10000)\n",
    "new_df1.head(10)"
   ]
  },
  {
   "cell_type": "code",
   "execution_count": 57,
   "metadata": {},
   "outputs": [
    {
     "data": {
      "text/html": [
       "<div>\n",
       "<style scoped>\n",
       "    .dataframe tbody tr th:only-of-type {\n",
       "        vertical-align: middle;\n",
       "    }\n",
       "\n",
       "    .dataframe tbody tr th {\n",
       "        vertical-align: top;\n",
       "    }\n",
       "\n",
       "    .dataframe thead th {\n",
       "        text-align: right;\n",
       "    }\n",
       "</style>\n",
       "<table border=\"1\" class=\"dataframe\">\n",
       "  <thead>\n",
       "    <tr style=\"text-align: right;\">\n",
       "      <th>productId</th>\n",
       "      <th>0972683275</th>\n",
       "      <th>1400501466</th>\n",
       "      <th>1400501520</th>\n",
       "      <th>1400501776</th>\n",
       "      <th>1400532620</th>\n",
       "      <th>1400532655</th>\n",
       "      <th>140053271X</th>\n",
       "      <th>1400532736</th>\n",
       "      <th>1400599997</th>\n",
       "      <th>1400698987</th>\n",
       "      <th>...</th>\n",
       "      <th>B00000JFMK</th>\n",
       "      <th>B00000JHWX</th>\n",
       "      <th>B00000JI4F</th>\n",
       "      <th>B00000JII6</th>\n",
       "      <th>B00000JMUG</th>\n",
       "      <th>B00000JPPI</th>\n",
       "      <th>B00000JSGF</th>\n",
       "      <th>B00000JYLO</th>\n",
       "      <th>B00000JYWQ</th>\n",
       "      <th>B00000K135</th>\n",
       "    </tr>\n",
       "    <tr>\n",
       "      <th>userid</th>\n",
       "      <th></th>\n",
       "      <th></th>\n",
       "      <th></th>\n",
       "      <th></th>\n",
       "      <th></th>\n",
       "      <th></th>\n",
       "      <th></th>\n",
       "      <th></th>\n",
       "      <th></th>\n",
       "      <th></th>\n",
       "      <th></th>\n",
       "      <th></th>\n",
       "      <th></th>\n",
       "      <th></th>\n",
       "      <th></th>\n",
       "      <th></th>\n",
       "      <th></th>\n",
       "      <th></th>\n",
       "      <th></th>\n",
       "      <th></th>\n",
       "      <th></th>\n",
       "    </tr>\n",
       "  </thead>\n",
       "  <tbody>\n",
       "    <tr>\n",
       "      <th>A01852072Z7B68UHLI5UG</th>\n",
       "      <td>0</td>\n",
       "      <td>0</td>\n",
       "      <td>0</td>\n",
       "      <td>0</td>\n",
       "      <td>0</td>\n",
       "      <td>0</td>\n",
       "      <td>0</td>\n",
       "      <td>0</td>\n",
       "      <td>0</td>\n",
       "      <td>0</td>\n",
       "      <td>...</td>\n",
       "      <td>0</td>\n",
       "      <td>0</td>\n",
       "      <td>0</td>\n",
       "      <td>0</td>\n",
       "      <td>0</td>\n",
       "      <td>0</td>\n",
       "      <td>0</td>\n",
       "      <td>0</td>\n",
       "      <td>0</td>\n",
       "      <td>0</td>\n",
       "    </tr>\n",
       "    <tr>\n",
       "      <th>A0266076X6KPZ6CCHGVS</th>\n",
       "      <td>0</td>\n",
       "      <td>0</td>\n",
       "      <td>0</td>\n",
       "      <td>0</td>\n",
       "      <td>0</td>\n",
       "      <td>0</td>\n",
       "      <td>0</td>\n",
       "      <td>0</td>\n",
       "      <td>0</td>\n",
       "      <td>0</td>\n",
       "      <td>...</td>\n",
       "      <td>0</td>\n",
       "      <td>0</td>\n",
       "      <td>0</td>\n",
       "      <td>0</td>\n",
       "      <td>0</td>\n",
       "      <td>0</td>\n",
       "      <td>0</td>\n",
       "      <td>0</td>\n",
       "      <td>0</td>\n",
       "      <td>0</td>\n",
       "    </tr>\n",
       "    <tr>\n",
       "      <th>A0293130VTX2ZXA70JQS</th>\n",
       "      <td>5</td>\n",
       "      <td>0</td>\n",
       "      <td>0</td>\n",
       "      <td>0</td>\n",
       "      <td>0</td>\n",
       "      <td>0</td>\n",
       "      <td>0</td>\n",
       "      <td>0</td>\n",
       "      <td>0</td>\n",
       "      <td>0</td>\n",
       "      <td>...</td>\n",
       "      <td>0</td>\n",
       "      <td>0</td>\n",
       "      <td>0</td>\n",
       "      <td>0</td>\n",
       "      <td>0</td>\n",
       "      <td>0</td>\n",
       "      <td>0</td>\n",
       "      <td>0</td>\n",
       "      <td>0</td>\n",
       "      <td>0</td>\n",
       "    </tr>\n",
       "    <tr>\n",
       "      <th>A030530627MK66BD8V4LN</th>\n",
       "      <td>4</td>\n",
       "      <td>0</td>\n",
       "      <td>0</td>\n",
       "      <td>0</td>\n",
       "      <td>0</td>\n",
       "      <td>0</td>\n",
       "      <td>0</td>\n",
       "      <td>0</td>\n",
       "      <td>0</td>\n",
       "      <td>0</td>\n",
       "      <td>...</td>\n",
       "      <td>0</td>\n",
       "      <td>0</td>\n",
       "      <td>0</td>\n",
       "      <td>0</td>\n",
       "      <td>0</td>\n",
       "      <td>0</td>\n",
       "      <td>0</td>\n",
       "      <td>0</td>\n",
       "      <td>0</td>\n",
       "      <td>0</td>\n",
       "    </tr>\n",
       "    <tr>\n",
       "      <th>A0571176384K8RBNKGF8O</th>\n",
       "      <td>0</td>\n",
       "      <td>0</td>\n",
       "      <td>0</td>\n",
       "      <td>0</td>\n",
       "      <td>0</td>\n",
       "      <td>0</td>\n",
       "      <td>0</td>\n",
       "      <td>0</td>\n",
       "      <td>0</td>\n",
       "      <td>0</td>\n",
       "      <td>...</td>\n",
       "      <td>0</td>\n",
       "      <td>0</td>\n",
       "      <td>0</td>\n",
       "      <td>0</td>\n",
       "      <td>0</td>\n",
       "      <td>0</td>\n",
       "      <td>0</td>\n",
       "      <td>0</td>\n",
       "      <td>0</td>\n",
       "      <td>0</td>\n",
       "    </tr>\n",
       "  </tbody>\n",
       "</table>\n",
       "<p>5 rows × 76 columns</p>\n",
       "</div>"
      ],
      "text/plain": [
       "productId              0972683275  1400501466  1400501520  1400501776  \\\n",
       "userid                                                                  \n",
       "A01852072Z7B68UHLI5UG           0           0           0           0   \n",
       "A0266076X6KPZ6CCHGVS            0           0           0           0   \n",
       "A0293130VTX2ZXA70JQS            5           0           0           0   \n",
       "A030530627MK66BD8V4LN           4           0           0           0   \n",
       "A0571176384K8RBNKGF8O           0           0           0           0   \n",
       "\n",
       "productId              1400532620  1400532655  140053271X  1400532736  \\\n",
       "userid                                                                  \n",
       "A01852072Z7B68UHLI5UG           0           0           0           0   \n",
       "A0266076X6KPZ6CCHGVS            0           0           0           0   \n",
       "A0293130VTX2ZXA70JQS            0           0           0           0   \n",
       "A030530627MK66BD8V4LN           0           0           0           0   \n",
       "A0571176384K8RBNKGF8O           0           0           0           0   \n",
       "\n",
       "productId              1400599997  1400698987  ...  B00000JFMK  B00000JHWX  \\\n",
       "userid                                         ...                           \n",
       "A01852072Z7B68UHLI5UG           0           0  ...           0           0   \n",
       "A0266076X6KPZ6CCHGVS            0           0  ...           0           0   \n",
       "A0293130VTX2ZXA70JQS            0           0  ...           0           0   \n",
       "A030530627MK66BD8V4LN           0           0  ...           0           0   \n",
       "A0571176384K8RBNKGF8O           0           0  ...           0           0   \n",
       "\n",
       "productId              B00000JI4F  B00000JII6  B00000JMUG  B00000JPPI  \\\n",
       "userid                                                                  \n",
       "A01852072Z7B68UHLI5UG           0           0           0           0   \n",
       "A0266076X6KPZ6CCHGVS            0           0           0           0   \n",
       "A0293130VTX2ZXA70JQS            0           0           0           0   \n",
       "A030530627MK66BD8V4LN           0           0           0           0   \n",
       "A0571176384K8RBNKGF8O           0           0           0           0   \n",
       "\n",
       "productId              B00000JSGF  B00000JYLO  B00000JYWQ  B00000K135  \n",
       "userid                                                                 \n",
       "A01852072Z7B68UHLI5UG           0           0           0           0  \n",
       "A0266076X6KPZ6CCHGVS            0           0           0           0  \n",
       "A0293130VTX2ZXA70JQS            0           0           0           0  \n",
       "A030530627MK66BD8V4LN           0           0           0           0  \n",
       "A0571176384K8RBNKGF8O           0           0           0           0  \n",
       "\n",
       "[5 rows x 76 columns]"
      ]
     },
     "execution_count": 57,
     "metadata": {},
     "output_type": "execute_result"
    }
   ],
   "source": [
    "ratings_matrix = new_df1.pivot_table(values ='rating', index ='userid', columns ='productId',fill_value =0)\n",
    "ratings_matrix.head()"
   ]
  },
  {
   "cell_type": "code",
   "execution_count": 58,
   "metadata": {},
   "outputs": [
    {
     "data": {
      "text/plain": [
       "(9832, 76)"
      ]
     },
     "execution_count": 58,
     "metadata": {},
     "output_type": "execute_result"
    }
   ],
   "source": [
    "ratings_matrix.shape"
   ]
  },
  {
   "cell_type": "code",
   "execution_count": 59,
   "metadata": {},
   "outputs": [
    {
     "data": {
      "text/html": [
       "<div>\n",
       "<style scoped>\n",
       "    .dataframe tbody tr th:only-of-type {\n",
       "        vertical-align: middle;\n",
       "    }\n",
       "\n",
       "    .dataframe tbody tr th {\n",
       "        vertical-align: top;\n",
       "    }\n",
       "\n",
       "    .dataframe thead th {\n",
       "        text-align: right;\n",
       "    }\n",
       "</style>\n",
       "<table border=\"1\" class=\"dataframe\">\n",
       "  <thead>\n",
       "    <tr style=\"text-align: right;\">\n",
       "      <th>userid</th>\n",
       "      <th>A01852072Z7B68UHLI5UG</th>\n",
       "      <th>A0266076X6KPZ6CCHGVS</th>\n",
       "      <th>A0293130VTX2ZXA70JQS</th>\n",
       "      <th>A030530627MK66BD8V4LN</th>\n",
       "      <th>A0571176384K8RBNKGF8O</th>\n",
       "      <th>A0590501PZ7HOWJKBGQ4</th>\n",
       "      <th>A0641581307AKT5MAOU0Q</th>\n",
       "      <th>A076219533YHEV2LJO988</th>\n",
       "      <th>A0821988FXKFYX53V4QG</th>\n",
       "      <th>A099626739FNCRNHIKBCG</th>\n",
       "      <th>...</th>\n",
       "      <th>AZWOPBY75SGAM</th>\n",
       "      <th>AZX0ZDVAFMN78</th>\n",
       "      <th>AZX5LAN9JEAFF</th>\n",
       "      <th>AZX7I110AF0W2</th>\n",
       "      <th>AZXKUK895VGSM</th>\n",
       "      <th>AZXP46IB63PU8</th>\n",
       "      <th>AZYTSU42BZ7TP</th>\n",
       "      <th>AZZGJ2KMWB7R</th>\n",
       "      <th>AZZMV5VT9W7Y8</th>\n",
       "      <th>AZZST8OYL5P4Q</th>\n",
       "    </tr>\n",
       "    <tr>\n",
       "      <th>productId</th>\n",
       "      <th></th>\n",
       "      <th></th>\n",
       "      <th></th>\n",
       "      <th></th>\n",
       "      <th></th>\n",
       "      <th></th>\n",
       "      <th></th>\n",
       "      <th></th>\n",
       "      <th></th>\n",
       "      <th></th>\n",
       "      <th></th>\n",
       "      <th></th>\n",
       "      <th></th>\n",
       "      <th></th>\n",
       "      <th></th>\n",
       "      <th></th>\n",
       "      <th></th>\n",
       "      <th></th>\n",
       "      <th></th>\n",
       "      <th></th>\n",
       "      <th></th>\n",
       "    </tr>\n",
       "  </thead>\n",
       "  <tbody>\n",
       "    <tr>\n",
       "      <th>0972683275</th>\n",
       "      <td>0</td>\n",
       "      <td>0</td>\n",
       "      <td>5</td>\n",
       "      <td>4</td>\n",
       "      <td>0</td>\n",
       "      <td>0</td>\n",
       "      <td>0</td>\n",
       "      <td>0</td>\n",
       "      <td>0</td>\n",
       "      <td>0</td>\n",
       "      <td>...</td>\n",
       "      <td>0</td>\n",
       "      <td>0</td>\n",
       "      <td>0</td>\n",
       "      <td>0</td>\n",
       "      <td>0</td>\n",
       "      <td>0</td>\n",
       "      <td>0</td>\n",
       "      <td>0</td>\n",
       "      <td>0</td>\n",
       "      <td>0</td>\n",
       "    </tr>\n",
       "    <tr>\n",
       "      <th>1400501466</th>\n",
       "      <td>0</td>\n",
       "      <td>0</td>\n",
       "      <td>0</td>\n",
       "      <td>0</td>\n",
       "      <td>0</td>\n",
       "      <td>0</td>\n",
       "      <td>0</td>\n",
       "      <td>0</td>\n",
       "      <td>0</td>\n",
       "      <td>0</td>\n",
       "      <td>...</td>\n",
       "      <td>0</td>\n",
       "      <td>0</td>\n",
       "      <td>0</td>\n",
       "      <td>0</td>\n",
       "      <td>0</td>\n",
       "      <td>0</td>\n",
       "      <td>0</td>\n",
       "      <td>0</td>\n",
       "      <td>0</td>\n",
       "      <td>0</td>\n",
       "    </tr>\n",
       "    <tr>\n",
       "      <th>1400501520</th>\n",
       "      <td>0</td>\n",
       "      <td>0</td>\n",
       "      <td>0</td>\n",
       "      <td>0</td>\n",
       "      <td>0</td>\n",
       "      <td>0</td>\n",
       "      <td>0</td>\n",
       "      <td>0</td>\n",
       "      <td>0</td>\n",
       "      <td>3</td>\n",
       "      <td>...</td>\n",
       "      <td>0</td>\n",
       "      <td>0</td>\n",
       "      <td>0</td>\n",
       "      <td>0</td>\n",
       "      <td>0</td>\n",
       "      <td>0</td>\n",
       "      <td>0</td>\n",
       "      <td>0</td>\n",
       "      <td>0</td>\n",
       "      <td>0</td>\n",
       "    </tr>\n",
       "    <tr>\n",
       "      <th>1400501776</th>\n",
       "      <td>0</td>\n",
       "      <td>0</td>\n",
       "      <td>0</td>\n",
       "      <td>0</td>\n",
       "      <td>0</td>\n",
       "      <td>0</td>\n",
       "      <td>0</td>\n",
       "      <td>0</td>\n",
       "      <td>0</td>\n",
       "      <td>0</td>\n",
       "      <td>...</td>\n",
       "      <td>0</td>\n",
       "      <td>0</td>\n",
       "      <td>0</td>\n",
       "      <td>0</td>\n",
       "      <td>0</td>\n",
       "      <td>0</td>\n",
       "      <td>0</td>\n",
       "      <td>0</td>\n",
       "      <td>1</td>\n",
       "      <td>0</td>\n",
       "    </tr>\n",
       "    <tr>\n",
       "      <th>1400532620</th>\n",
       "      <td>0</td>\n",
       "      <td>0</td>\n",
       "      <td>0</td>\n",
       "      <td>0</td>\n",
       "      <td>0</td>\n",
       "      <td>0</td>\n",
       "      <td>0</td>\n",
       "      <td>0</td>\n",
       "      <td>0</td>\n",
       "      <td>0</td>\n",
       "      <td>...</td>\n",
       "      <td>0</td>\n",
       "      <td>0</td>\n",
       "      <td>0</td>\n",
       "      <td>0</td>\n",
       "      <td>0</td>\n",
       "      <td>0</td>\n",
       "      <td>0</td>\n",
       "      <td>0</td>\n",
       "      <td>0</td>\n",
       "      <td>0</td>\n",
       "    </tr>\n",
       "  </tbody>\n",
       "</table>\n",
       "<p>5 rows × 9832 columns</p>\n",
       "</div>"
      ],
      "text/plain": [
       "userid      A01852072Z7B68UHLI5UG  A0266076X6KPZ6CCHGVS  A0293130VTX2ZXA70JQS  \\\n",
       "productId                                                                       \n",
       "0972683275                      0                     0                     5   \n",
       "1400501466                      0                     0                     0   \n",
       "1400501520                      0                     0                     0   \n",
       "1400501776                      0                     0                     0   \n",
       "1400532620                      0                     0                     0   \n",
       "\n",
       "userid      A030530627MK66BD8V4LN  A0571176384K8RBNKGF8O  \\\n",
       "productId                                                  \n",
       "0972683275                      4                      0   \n",
       "1400501466                      0                      0   \n",
       "1400501520                      0                      0   \n",
       "1400501776                      0                      0   \n",
       "1400532620                      0                      0   \n",
       "\n",
       "userid      A0590501PZ7HOWJKBGQ4  A0641581307AKT5MAOU0Q  \\\n",
       "productId                                                 \n",
       "0972683275                     0                      0   \n",
       "1400501466                     0                      0   \n",
       "1400501520                     0                      0   \n",
       "1400501776                     0                      0   \n",
       "1400532620                     0                      0   \n",
       "\n",
       "userid      A076219533YHEV2LJO988  A0821988FXKFYX53V4QG  \\\n",
       "productId                                                 \n",
       "0972683275                      0                     0   \n",
       "1400501466                      0                     0   \n",
       "1400501520                      0                     0   \n",
       "1400501776                      0                     0   \n",
       "1400532620                      0                     0   \n",
       "\n",
       "userid      A099626739FNCRNHIKBCG  ...  AZWOPBY75SGAM  AZX0ZDVAFMN78  \\\n",
       "productId                          ...                                 \n",
       "0972683275                      0  ...              0              0   \n",
       "1400501466                      0  ...              0              0   \n",
       "1400501520                      3  ...              0              0   \n",
       "1400501776                      0  ...              0              0   \n",
       "1400532620                      0  ...              0              0   \n",
       "\n",
       "userid      AZX5LAN9JEAFF  AZX7I110AF0W2  AZXKUK895VGSM  AZXP46IB63PU8  \\\n",
       "productId                                                                \n",
       "0972683275              0              0              0              0   \n",
       "1400501466              0              0              0              0   \n",
       "1400501520              0              0              0              0   \n",
       "1400501776              0              0              0              0   \n",
       "1400532620              0              0              0              0   \n",
       "\n",
       "userid      AZYTSU42BZ7TP  AZZGJ2KMWB7R  AZZMV5VT9W7Y8  AZZST8OYL5P4Q  \n",
       "productId                                                              \n",
       "0972683275              0             0              0              0  \n",
       "1400501466              0             0              0              0  \n",
       "1400501520              0             0              0              0  \n",
       "1400501776              0             0              1              0  \n",
       "1400532620              0             0              0              0  \n",
       "\n",
       "[5 rows x 9832 columns]"
      ]
     },
     "execution_count": 59,
     "metadata": {},
     "output_type": "execute_result"
    }
   ],
   "source": [
    "X= ratings_matrix.T\n",
    "X.head()"
   ]
  },
  {
   "cell_type": "code",
   "execution_count": 60,
   "metadata": {},
   "outputs": [
    {
     "data": {
      "text/plain": [
       "(76, 9832)"
      ]
     },
     "execution_count": 60,
     "metadata": {},
     "output_type": "execute_result"
    }
   ],
   "source": [
    "X.shape"
   ]
  },
  {
   "cell_type": "code",
   "execution_count": 61,
   "metadata": {},
   "outputs": [
    {
     "data": {
      "text/plain": [
       "Index(['0972683275', '1400501466', '1400501520', '1400501776', '1400532620',\n",
       "       '1400532655', '140053271X', '1400532736', '1400599997', '1400698987',\n",
       "       '3744295508', '6301977173', '7214047977', '8862935293', '9573212919',\n",
       "       '9575871979', '9625993428', '9888002198', '9966694544', '9983891212',\n",
       "       '9984984354', '9985511476', 'B000001OM4', 'B000001OM5', 'B000001OMI',\n",
       "       'B000001ON6', 'B00000DM9W', 'B00000IGBF', 'B00000J05A', 'B00000J061',\n",
       "       'B00000J08Q', 'B00000J0D2', 'B00000J0D5', 'B00000J0D8', 'B00000J1EJ',\n",
       "       'B00000J1EP', 'B00000J1EQ', 'B00000J1F3', 'B00000J1GA', 'B00000J1QK',\n",
       "       'B00000J1QR', 'B00000J1SC', 'B00000J1TX', 'B00000J1U8', 'B00000J1UQ',\n",
       "       'B00000J1V3', 'B00000J1V5', 'B00000J3NF', 'B00000J3Q7', 'B00000J3UJ',\n",
       "       'B00000J434', 'B00000J4EY', 'B00000J4FS', 'B00000J4GE', 'B00000J6WY',\n",
       "       'B00000JBAT', 'B00000JBHP', 'B00000JBPB', 'B00000JCT8', 'B00000JCTO',\n",
       "       'B00000JD34', 'B00000JDF5', 'B00000JDF6', 'B00000JDHV', 'B00000JFE3',\n",
       "       'B00000JFIF', 'B00000JFMK', 'B00000JHWX', 'B00000JI4F', 'B00000JII6',\n",
       "       'B00000JMUG', 'B00000JPPI', 'B00000JSGF', 'B00000JYLO', 'B00000JYWQ',\n",
       "       'B00000K135'],\n",
       "      dtype='object', name='productId')"
      ]
     },
     "execution_count": 61,
     "metadata": {},
     "output_type": "execute_result"
    }
   ],
   "source": [
    "X.index"
   ]
  },
  {
   "cell_type": "code",
   "execution_count": 62,
   "metadata": {},
   "outputs": [],
   "source": [
    "X1= X"
   ]
  },
  {
   "cell_type": "code",
   "execution_count": 63,
   "metadata": {},
   "outputs": [
    {
     "data": {
      "text/plain": [
       "(76, 10)"
      ]
     },
     "execution_count": 63,
     "metadata": {},
     "output_type": "execute_result"
    }
   ],
   "source": [
    "from sklearn.decomposition import TruncatedSVD\n",
    "SVD=TruncatedSVD(n_components=10)\n",
    "decomposed_matrix=SVD.fit_transform(X)\n",
    "decomposed_matrix.shape"
   ]
  },
  {
   "cell_type": "code",
   "execution_count": 64,
   "metadata": {},
   "outputs": [
    {
     "data": {
      "text/plain": [
       "array([[ 1.48104508e+02, -1.54594960e-01,  2.45296906e-02,\n",
       "         1.53803568e-04, -1.34146810e-01,  1.14574565e-05,\n",
       "         4.60538289e-02,  3.35048063e-05,  7.37938050e-04,\n",
       "        -8.42622562e-02],\n",
       "       [ 6.69065546e-04,  1.27559691e+00,  1.49788658e+00,\n",
       "         1.91127984e-01, -2.54405208e-03,  4.06279679e-02,\n",
       "         5.33116454e-02, -3.06433325e-03,  6.10010017e+01,\n",
       "        -4.00571418e-01],\n",
       "       [ 4.51497807e-05,  1.00869402e-01,  3.19011757e-01,\n",
       "        -2.17542587e-03,  1.17704280e-03,  1.04807361e-02,\n",
       "         9.57934366e-03,  6.98202360e-02,  1.42200371e+00,\n",
       "        -1.21571443e-01],\n",
       "       [ 6.22715482e-04,  7.81150457e-01,  4.93246187e-01,\n",
       "        -2.77723414e-02, -4.76377528e-02,  5.52139080e-02,\n",
       "         2.15460995e-02,  5.93473535e-01,  3.77834152e+00,\n",
       "        -1.21834702e+00],\n",
       "       [ 4.04930497e-04,  7.65256532e-01,  1.09188567e+00,\n",
       "         4.68893127e-03,  2.34847090e-02,  1.91597086e-02,\n",
       "         7.23639017e-02, -5.47041511e-01, -1.56198217e+00,\n",
       "         1.18717859e+00],\n",
       "       [ 2.62250960e-01,  8.72497878e+01, -1.42219851e+01,\n",
       "        -1.01409552e-02,  1.68533027e-03, -1.50535377e-03,\n",
       "        -7.51746285e-03, -5.80927512e-04, -7.79629398e-01,\n",
       "         1.19539092e-02],\n",
       "       [ 1.02405823e-03,  1.45182030e+01,  8.52270945e+01,\n",
       "        -6.35747642e-02, -2.98152091e-02,  1.44676105e-03,\n",
       "        -1.35836927e-02,  5.10127405e-03, -1.22121617e+00,\n",
       "        -3.50911201e-04],\n",
       "       [-4.91932954e-08,  6.93267717e-02,  4.01574487e-01,\n",
       "         1.46264594e-03,  2.00259460e-03, -3.42750324e-03,\n",
       "        -2.37231439e-03, -1.51172542e-02,  7.21224589e-01,\n",
       "        -1.23775397e-02],\n",
       "       [ 5.74431627e-04,  7.88192490e-01, -1.10212600e-01,\n",
       "         4.02741563e-03, -4.57347183e-03, -2.83377649e-02,\n",
       "        -4.58854547e-02,  1.96102586e-01,  5.69993017e+00,\n",
       "        -9.20672596e-01],\n",
       "       [ 3.33032603e-04,  5.70364219e-01,  7.33074927e-01,\n",
       "        -2.81818323e-02,  1.55150572e-01, -7.97193241e-03,\n",
       "         3.30811885e-01, -8.87110416e-03,  2.42955392e+00,\n",
       "         2.68543404e-01],\n",
       "       [ 4.84824859e-06,  1.14446488e-03,  3.46122552e-04,\n",
       "        -5.64401129e-04, -1.49786381e-04, -2.41216505e-04,\n",
       "        -3.39350174e-03,  2.23712643e-02,  3.40766399e-02,\n",
       "        -5.89663639e-02],\n",
       "       [ 1.28077316e-06, -9.31833065e-04,  6.29836988e-03,\n",
       "        -1.44046997e-03,  2.85276976e-04,  8.25494478e-03,\n",
       "         4.97236776e-04,  2.92423545e-02, -2.44326954e-01,\n",
       "        -5.41820607e-02],\n",
       "       [-1.53029926e-04, -1.20101224e-02, -2.14225666e-02,\n",
       "         1.33937784e-02,  7.14189062e-02, -1.47755154e-01,\n",
       "        -1.35208365e-01, -7.57445728e-01,  8.07920577e-01,\n",
       "        -9.71826110e-03],\n",
       "       [-1.28857366e-05,  1.78816737e-03,  2.50229075e-03,\n",
       "        -1.26742100e-02,  3.25154858e-03,  5.19525381e-03,\n",
       "         4.12440808e-03,  3.99197189e-02,  1.01733900e-01,\n",
       "         2.23048743e-01],\n",
       "       [-1.65770103e-05, -5.44733268e-03, -8.48365149e-03,\n",
       "         9.94490686e-03,  1.30246488e-02, -2.07573164e-02,\n",
       "        -2.47492700e-03, -1.93874553e-01,  6.42771114e-01,\n",
       "         1.50261025e-02],\n",
       "       [ 1.86049617e-05,  4.92036590e-03,  2.29863773e-02,\n",
       "        -1.59448280e-02, -1.33190684e-02,  1.94953354e-02,\n",
       "        -1.28946190e-02,  1.85785637e-01, -2.15778390e-01,\n",
       "        -2.60325492e-01],\n",
       "       [ 5.93826823e-07, -7.66133378e-03, -8.18388924e-03,\n",
       "        -2.10639429e-03, -3.82621442e-03,  7.80265208e-03,\n",
       "        -4.38226139e-03, -4.15109906e-02, -3.46494432e-02,\n",
       "         3.54494688e-01],\n",
       "       [-2.80918913e-06, -1.51088559e-04, -2.42706427e-04,\n",
       "        -3.58294574e-04,  8.71689360e-04,  6.86473675e-04,\n",
       "        -3.72540074e-04, -6.46105699e-03, -2.80644935e-02,\n",
       "        -7.50301886e-02],\n",
       "       [ 1.60783548e-06,  6.18303682e-04,  5.61784245e-04,\n",
       "         1.44426320e-03,  2.21506594e-04, -1.77004232e-03,\n",
       "        -8.86134857e-04, -4.17378809e-03,  1.34085852e-02,\n",
       "         1.47397444e-04],\n",
       "       [ 2.02711021e-01,  2.00317624e-03, -3.48104433e-03,\n",
       "        -3.22860184e-04, -3.83467874e-03, -1.38327718e-03,\n",
       "        -2.08779069e-03,  1.10124314e-01,  6.17488775e-01,\n",
       "         6.04773323e+01],\n",
       "       [ 3.56397163e-07,  3.63912946e-04,  1.98115121e-04,\n",
       "        -3.56741335e-04, -3.73060806e-04, -7.15407023e-04,\n",
       "        -3.45902702e-03,  2.83192335e-03,  1.45023112e-02,\n",
       "         2.94183721e-03],\n",
       "       [-1.91049423e-06,  1.46011695e-03,  1.81989157e-03,\n",
       "         7.53583608e-04, -9.56959673e-04, -1.05699490e-03,\n",
       "        -4.04622899e-03, -1.71894616e-02,  5.38230514e-02,\n",
       "         4.69908455e-03],\n",
       "       [-3.40362473e-07, -4.43163904e-03,  6.18799093e-03,\n",
       "         4.79374743e-03,  1.77079403e-03, -2.95421820e-03,\n",
       "         1.70123589e-02,  3.46688404e-04, -9.47458071e-02,\n",
       "         2.56247808e-01],\n",
       "       [ 1.86470210e-01, -1.39674543e-02,  1.20498044e-02,\n",
       "         2.28363687e-03,  3.60603025e-01,  5.77759390e-02,\n",
       "        -1.35400288e-01, -1.40871902e-01, -4.15980931e-01,\n",
       "         1.17820175e+00],\n",
       "       [ 2.06620456e-07,  2.83890477e-04,  6.27323705e-04,\n",
       "         6.72852535e-03,  1.40131051e-04,  1.28494236e-03,\n",
       "        -5.72268094e-06,  4.42624403e-01,  1.46698379e-02,\n",
       "        -3.86695703e-03],\n",
       "       [ 3.99480632e-04, -8.92399724e-03,  8.71183207e-03,\n",
       "        -3.85290523e-03, -3.24351241e-03,  6.49311214e-01,\n",
       "         5.20655287e-02,  1.84335926e-02, -1.61388025e+00,\n",
       "         1.65272823e-01],\n",
       "       [ 1.04803605e-06,  1.88517226e-02,  5.91373575e-02,\n",
       "         8.50824545e+01,  8.89180338e-02, -2.72359642e-02,\n",
       "         1.31991376e-03, -1.37696099e+00, -1.38126551e-01,\n",
       "         2.24887680e-03],\n",
       "       [ 8.73841671e-07,  5.49011299e-04,  1.50755431e-03,\n",
       "        -1.66410081e-03, -2.35491484e-04,  1.16956160e-03,\n",
       "        -3.58417962e-03,  9.10048653e-03, -2.59317095e-02,\n",
       "        -4.18293865e-05],\n",
       "       [ 3.88513466e-08, -1.52168418e-04,  4.20539044e-04,\n",
       "        -2.06669038e-04,  9.71696074e-04,  1.06057477e-03,\n",
       "         6.12405582e-03,  2.45937286e-03, -3.12771908e-02,\n",
       "        -7.21279825e-03],\n",
       "       [-1.05489540e-05, -3.52367073e-03, -1.54248947e-03,\n",
       "         1.70479139e+00,  1.00454108e-02,  3.53709665e-01,\n",
       "         3.06435923e-03,  6.87781885e+01, -3.90043259e-02,\n",
       "        -6.21330591e-02],\n",
       "       [ 5.19806661e-08, -1.36299971e-04,  2.57278345e-04,\n",
       "         1.76284694e-04,  1.10619597e-05, -1.42296992e-04,\n",
       "        -2.18940531e-04, -2.12517587e-03,  4.48593182e-03,\n",
       "         7.38519985e-03],\n",
       "       [ 1.51015998e-07,  2.21906333e-04, -4.61288977e-04,\n",
       "         7.88915719e-05,  1.06381376e-04, -3.37906953e-04,\n",
       "         4.91758650e-04, -1.73560445e-03,  1.40134432e-02,\n",
       "        -7.53247826e-03],\n",
       "       [-7.34321459e-07, -3.31141018e-05,  8.46211423e-05,\n",
       "         2.20074885e-04, -4.40349487e-07, -5.64021306e-04,\n",
       "         4.15477769e-04, -1.87695434e-03,  1.12094062e-02,\n",
       "         2.27202938e-02],\n",
       "       [ 7.14477269e-09,  1.80248336e-06,  1.42953305e-06,\n",
       "         1.80171782e-06,  1.07326526e-06, -6.14040007e-06,\n",
       "         6.86053601e-06,  7.53455233e-06,  9.62664980e-05,\n",
       "        -4.36788271e-05],\n",
       "       [-9.28574073e-07, -8.16921467e-05, -3.68663593e-04,\n",
       "         5.03259356e-04,  4.71854349e-04, -5.08326719e-05,\n",
       "         1.91130668e-03, -1.50825685e-03, -1.12418224e-03,\n",
       "        -1.19789601e-02],\n",
       "       [-1.61388150e-05, -3.53798963e-03, -4.20451177e-03,\n",
       "        -3.12843443e-03,  3.77602876e-03,  1.24744221e-02,\n",
       "        -6.13441981e-03, -3.96577010e-02, -1.52101807e-01,\n",
       "        -3.01050202e-02],\n",
       "       [-1.76877740e-05, -5.50737864e-03,  1.75698480e-02,\n",
       "        -5.71729217e-06,  7.13916098e-03,  1.00150450e-02,\n",
       "         1.13886297e-02, -1.24844948e-01, -6.09120732e-01,\n",
       "         3.36927250e-01],\n",
       "       [-4.86237778e-07, -8.69883679e-04,  6.28868932e-04,\n",
       "         5.69876495e-04,  5.32474906e-04,  8.67022866e-03,\n",
       "         1.38185046e-03, -1.40039793e-02, -8.36383512e-02,\n",
       "        -1.09570597e-03],\n",
       "       [ 2.34584529e-04,  5.63050056e-05,  2.26916361e-05,\n",
       "        -5.35823123e-04,  2.42614812e-01,  1.58807456e-03,\n",
       "        -1.11363752e-01,  3.57509695e-05,  2.84370832e-03,\n",
       "         2.37582262e-03],\n",
       "       [-3.47151837e-05, -2.78965002e-02,  7.90492951e-03,\n",
       "        -7.22383294e-03,  1.12273730e-02,  7.06087962e-02,\n",
       "         6.04191748e-02, -1.20973031e-01, -8.92995341e-01,\n",
       "         1.98325795e-01],\n",
       "       [ 2.33477207e-04,  9.22579985e-04,  1.00464820e-03,\n",
       "         2.44040364e-03,  1.10388553e-01, -7.70456846e-03,\n",
       "         3.11302428e-01, -2.75744068e-02,  1.27629603e-01,\n",
       "         9.35736206e-02],\n",
       "       [ 7.77199984e-05,  1.84217631e-02, -2.15588773e-02,\n",
       "        -1.17090680e-02, -2.09892020e-02,  2.28651320e-02,\n",
       "        -4.23966198e-02,  5.66565127e-01,  8.80790673e-01,\n",
       "        -1.09169962e+00],\n",
       "       [ 6.15632349e-05, -1.63122658e-03,  4.77503715e-02,\n",
       "        -2.54680534e-02, -4.88888300e-02,  1.24930729e-01,\n",
       "         1.02472237e-01,  4.30181576e-01, -2.46044113e+00,\n",
       "         5.32407364e-02],\n",
       "       [ 4.75269670e-07, -2.58102040e-04, -1.00495033e-04,\n",
       "         2.07891829e-03, -7.62780430e-04, -1.41624449e-03,\n",
       "         3.19635655e-03, -1.57519065e-02,  1.24515390e-02,\n",
       "         8.33122218e-03],\n",
       "       [-2.99142412e-05, -2.83563248e-02,  4.24483737e-02,\n",
       "        -2.14102104e-02, -7.58167239e-03,  1.07626038e-01,\n",
       "         1.15766549e-01, -3.91036439e-02, -3.13287414e+00,\n",
       "        -2.10505106e-01],\n",
       "       [-3.56307992e-06, -8.42784953e-03, -1.64084626e-02,\n",
       "         3.08569636e-02,  3.88153151e-03, -2.00348234e-02,\n",
       "         9.17212460e-02, -2.26343057e-01,  2.46089785e-01,\n",
       "         4.04645648e-02],\n",
       "       [ 2.49017134e-01, -6.42435602e-04,  2.35126318e-02,\n",
       "        -8.15322221e-02,  7.85337852e+01, -4.99517951e-02,\n",
       "        -2.94100747e+01, -2.32291668e-03,  1.23890928e-02,\n",
       "        -7.08046964e-03],\n",
       "       [ 4.31807492e-06,  2.82124618e-03,  2.34353728e-03,\n",
       "        -3.18636380e-04, -9.31852509e-05, -3.59224703e-03,\n",
       "        -1.01778450e-03,  1.88935701e-02,  1.08743440e-01,\n",
       "         1.62973304e-02],\n",
       "       [-5.30776720e-06, -3.59159864e-05,  5.71432144e-04,\n",
       "         3.58887221e-03,  4.77163543e-04,  3.71851783e-03,\n",
       "        -5.31064278e-03,  4.27506021e-01, -3.72761662e-02,\n",
       "         1.13771372e-02],\n",
       "       [ 8.71196323e-08,  1.29555789e-04,  1.18488347e-04,\n",
       "         5.21916639e-04,  4.71406707e-04, -8.46672829e-04,\n",
       "        -1.05320675e-03, -2.57299613e-03,  7.15552306e-03,\n",
       "        -2.35329683e-02],\n",
       "       [ 9.93501126e-06,  6.34426079e-03,  1.53468964e-02,\n",
       "        -1.68684690e-02, -2.33727578e-03,  1.29458192e-02,\n",
       "        -2.15754178e-02,  1.06283522e-01, -2.44878298e-01,\n",
       "         8.39334187e-02],\n",
       "       [-7.51215277e-06,  1.44741143e-03,  4.14911136e-03,\n",
       "        -5.52083109e-03,  3.06057868e-03,  2.40170821e-03,\n",
       "         1.33500473e-02,  2.10687039e-02, -6.80362850e-02,\n",
       "         1.38701760e-01],\n",
       "       [ 4.63874624e-05,  2.98347216e-02,  7.29891103e-02,\n",
       "        -7.44847448e-02, -1.38522125e-02,  4.59603027e-02,\n",
       "        -1.48002277e-01,  4.33018302e-01, -9.54808783e-01,\n",
       "         4.74214313e-01],\n",
       "       [ 1.91945747e-04, -3.88289615e-03,  1.46978236e-02,\n",
       "         1.22932572e-02,  3.25851078e-03, -2.30646109e-02,\n",
       "        -1.96784192e-02, -4.41232472e-02, -1.65777264e-01,\n",
       "        -9.63978459e-02],\n",
       "       [ 3.63694416e-06, -2.68834073e-03,  2.32400267e-03,\n",
       "         1.51716804e-03, -1.49468124e-03,  1.88752914e-03,\n",
       "         7.42453849e-03,  5.37782166e-03, -1.56931257e-01,\n",
       "         1.20332685e-01],\n",
       "       [ 1.03864630e-05, -6.94173693e-03,  6.80646479e-03,\n",
       "         1.16454928e-03,  5.28054797e-03,  1.10550783e-02,\n",
       "         2.14281888e-02,  1.33258385e-02, -5.05076044e-01,\n",
       "        -1.74335971e-01],\n",
       "       [ 8.75588114e-07,  1.08908532e-04,  1.75999503e-04,\n",
       "        -6.59727494e-04,  3.52295771e-05,  1.96439412e-03,\n",
       "        -1.44055658e-03,  4.29879921e-03, -2.26018167e-02,\n",
       "        -1.68280167e-02],\n",
       "       [ 9.38026133e-08,  1.83705597e-05, -1.04605186e-04,\n",
       "         6.01185565e-03,  1.65761261e-05,  1.81344079e-04,\n",
       "        -1.11808087e-04,  3.56343794e-01, -4.94622436e-05,\n",
       "        -3.99344452e-03],\n",
       "       [ 3.28914422e-07, -2.61588702e-04, -1.06191654e-04,\n",
       "        -1.47391590e-03, -3.49712826e-04,  2.96457649e-03,\n",
       "         3.39113051e-03,  1.21185010e-02, -2.06765535e-02,\n",
       "         7.13165694e-03],\n",
       "       [ 6.82392251e-07, -3.36871950e-05, -8.97725052e-04,\n",
       "        -3.65200597e-03, -4.23986294e-06,  7.10205173e-03,\n",
       "         1.09690124e-03,  1.46996632e-02, -1.53651895e-02,\n",
       "         2.85798493e-03],\n",
       "       [ 1.27539820e-05,  2.49982578e-03, -8.78593232e-04,\n",
       "         1.69989718e-03, -3.65385440e-03, -4.24210000e-03,\n",
       "        -5.13395105e-03,  3.57515623e-02,  7.54319133e-02,\n",
       "        -8.68360592e-02],\n",
       "       [ 7.47953489e-03,  7.64610954e-03,  1.85359898e-02,\n",
       "        -3.52455778e-02,  3.25903168e+01, -7.77380649e-03,\n",
       "         7.08434768e+01, -9.37713833e-03, -3.33689103e-02,\n",
       "         3.69506987e-03],\n",
       "       [ 6.48082025e-04,  4.75150181e-03, -2.97216826e-03,\n",
       "        -2.72278524e-02,  1.14936419e+00,  5.11529827e-01,\n",
       "         4.94556363e-01,  2.01490950e-02,  1.69313478e-01,\n",
       "         1.71986808e-01],\n",
       "       [ 7.51356581e-07,  6.19513331e-05,  3.00591241e-04,\n",
       "        -3.74541161e-04,  5.85697382e-04,  5.33282800e-04,\n",
       "         5.32859807e-03,  3.33678059e-03,  8.49706408e-05,\n",
       "         1.78345897e-02],\n",
       "       [ 8.38969038e-08, -6.21763145e-05,  8.02781245e-05,\n",
       "        -1.61302997e-05,  8.90179204e-05,  9.80427715e-05,\n",
       "         2.90270058e-05,  1.34225607e-05, -5.23322354e-03,\n",
       "        -3.87545112e-03],\n",
       "       [-1.46711006e-06, -1.81995949e-05,  6.39082689e-05,\n",
       "        -9.94242903e-04, -7.67351363e-04,  1.55017114e-03,\n",
       "         1.68892798e-03,  5.95151217e-04, -3.08518685e-02,\n",
       "         1.27222822e-02],\n",
       "       [-7.69605375e-06,  2.29375125e-04, -1.02342695e-03,\n",
       "        -3.00654148e-03, -4.14367659e-03,  1.19293800e-02,\n",
       "        -9.17115018e-03, -3.92843459e-02, -1.57613290e-01,\n",
       "         9.98181786e-02],\n",
       "       [ 1.07260705e-06, -4.07381353e-04, -1.72843969e-04,\n",
       "        -2.20082927e-05,  5.20489607e-03,  5.20410438e-03,\n",
       "         3.55676460e-03,  2.93998210e-03, -2.50519615e-02,\n",
       "        -4.24044540e-02],\n",
       "       [ 4.57849903e-07,  4.20114932e-04, -3.38664057e-03,\n",
       "         2.15341395e-02,  4.45056238e-02,  8.05132562e+01,\n",
       "        -1.57156605e-02, -3.05621201e-01, -7.27922860e-03,\n",
       "        -1.33315956e-03],\n",
       "       [-9.82860604e-08,  5.46478185e-05, -8.04485766e-05,\n",
       "        -3.67927840e-05,  9.36986506e-05,  1.12269297e-05,\n",
       "        -1.43071052e-04, -1.34027314e-03,  4.58013670e-03,\n",
       "         3.58050414e-03],\n",
       "       [ 1.01942973e-07,  6.93968290e-05, -4.03438315e-05,\n",
       "         1.55785861e-05,  2.23127990e-05, -2.28344129e-04,\n",
       "         1.43279738e-04, -3.95574204e-06,  4.94464244e-03,\n",
       "        -2.05561014e-03],\n",
       "       [ 2.70354230e-07, -4.95534526e-05,  5.49798928e-05,\n",
       "         4.08219530e-05, -6.22142666e-05,  1.83600365e-03,\n",
       "         3.06803733e-04, -7.76327959e-04, -1.12613468e-02,\n",
       "         3.04007871e-04],\n",
       "       [ 5.24806991e-05,  1.14021760e-02,  9.13565613e-03,\n",
       "        -1.30829291e-02,  2.98569485e-01,  2.47956252e-02,\n",
       "         1.04397103e+00,  3.63291117e-01, -4.79804424e-01,\n",
       "        -4.35913827e-01],\n",
       "       [ 1.81542728e-04,  1.15176301e-03,  1.15278307e-03,\n",
       "        -8.79059162e-04,  1.06156572e-03,  5.73577807e-03,\n",
       "         7.03593570e-03,  2.58624867e-03, -4.07071828e-02,\n",
       "         4.01777199e-02],\n",
       "       [-1.38628751e-06,  1.31871534e-03,  3.06226408e-03,\n",
       "         3.10329838e-04, -4.00041280e-04, -4.93005626e-04,\n",
       "         5.40758987e-03, -7.10263750e-03, -1.26466327e-02,\n",
       "        -7.90968719e-03],\n",
       "       [-1.91093684e-06, -4.49743412e-04, -6.71147922e-04,\n",
       "         1.43315223e-03,  6.28164655e-04, -3.62788724e-03,\n",
       "        -7.70597337e-05, -2.91710010e-02,  2.03143374e-02,\n",
       "         7.87124215e-02]])"
      ]
     },
     "execution_count": 64,
     "metadata": {},
     "output_type": "execute_result"
    }
   ],
   "source": [
    "decomposed_matrix"
   ]
  },
  {
   "cell_type": "code",
   "execution_count": 65,
   "metadata": {},
   "outputs": [
    {
     "data": {
      "text/plain": [
       "(76, 76)"
      ]
     },
     "execution_count": 65,
     "metadata": {},
     "output_type": "execute_result"
    }
   ],
   "source": [
    "correlation_matrix=np.corrcoef(decomposed_matrix)\n",
    "correlation_matrix.shape"
   ]
  },
  {
   "cell_type": "code",
   "execution_count": 66,
   "metadata": {},
   "outputs": [
    {
     "data": {
      "text/plain": [
       "'B00000K135'"
      ]
     },
     "execution_count": 66,
     "metadata": {},
     "output_type": "execute_result"
    }
   ],
   "source": [
    "X.index[75]"
   ]
  },
  {
   "cell_type": "code",
   "execution_count": 68,
   "metadata": {},
   "outputs": [
    {
     "data": {
      "text/plain": [
       "75"
      ]
     },
     "execution_count": 68,
     "metadata": {},
     "output_type": "execute_result"
    }
   ],
   "source": [
    "i = X.index[75]\n",
    "\n",
    "product_names = list(X.index)\n",
    "product_ID= product_names.index(i)\n",
    "product_ID"
   ]
  },
  {
   "cell_type": "code",
   "execution_count": 70,
   "metadata": {},
   "outputs": [
    {
     "data": {
      "text/plain": [
       "(76,)"
      ]
     },
     "execution_count": 70,
     "metadata": {},
     "output_type": "execute_result"
    }
   ],
   "source": [
    "correlation_matrix_ID= correlation_matrix[product_ID]\n",
    "correlation_matrix_ID.shape"
   ]
  },
  {
   "cell_type": "code",
   "execution_count": 71,
   "metadata": {},
   "outputs": [
    {
     "data": {
      "text/plain": [
       "array([-8.47694053e-02,  1.61349613e-01,  4.27477258e-02, -2.06723345e-01,\n",
       "        3.43484597e-01, -7.42007450e-02, -1.10798870e-01,  9.69573720e-02,\n",
       "        9.02438532e-08,  2.14831145e-01, -7.59188820e-01, -4.19526156e-01,\n",
       "        4.19991976e-01,  8.65560663e-01,  3.08464689e-01, -9.01530251e-01,\n",
       "        9.09793479e-01, -9.13386188e-01,  2.98791028e-01,  9.07660166e-01,\n",
       "        2.75712368e-01,  3.66001036e-01,  7.58467119e-01,  7.53584727e-01,\n",
       "       -4.57038609e-01, -1.22189290e-01, -5.93094502e-02, -2.96367865e-01,\n",
       "       -4.12418939e-01, -4.55769131e-01,  9.55730010e-01, -2.15812110e-01,\n",
       "        9.51419730e-01, -2.43449774e-01, -8.56554377e-01, -2.35292605e-01,\n",
       "        3.43908043e-01, -1.21049912e-01, -2.38626080e-02,  7.20614300e-02,\n",
       "        2.57194953e-01, -6.84416818e-01, -2.29612634e-01,  7.18020044e-01,\n",
       "       -2.33103293e-01,  4.77828290e-01, -4.04133704e-02,  2.32095356e-01,\n",
       "       -4.38263503e-01, -7.44136414e-01, -4.85418287e-02,  6.37335016e-01,\n",
       "        6.01105627e-02, -5.13414274e-01,  3.77976360e-01, -4.84916825e-01,\n",
       "       -7.60564036e-01, -4.62716239e-01, -1.14301151e-01, -3.05463283e-01,\n",
       "       -6.35729841e-01, -1.14382810e-01, -1.63438501e-02,  7.95781093e-01,\n",
       "       -7.15520030e-01,  1.64762992e-01,  4.07357996e-01, -9.08769575e-01,\n",
       "       -1.28305071e-01,  7.88956603e-01, -1.79743863e-01, -1.34525536e-01,\n",
       "       -5.56556923e-01,  4.37909647e-01, -3.92022046e-01,  1.00000000e+00])"
      ]
     },
     "execution_count": 71,
     "metadata": {},
     "output_type": "execute_result"
    }
   ],
   "source": [
    "correlation_matrix_ID"
   ]
  },
  {
   "cell_type": "code",
   "execution_count": 74,
   "metadata": {},
   "outputs": [
    {
     "data": {
      "text/plain": [
       "['8862935293',\n",
       " '9625993428',\n",
       " '9983891212',\n",
       " 'B000001OM4',\n",
       " 'B000001OM5',\n",
       " 'B00000J08Q',\n",
       " 'B00000J0D5',\n",
       " 'B00000J1U8',\n",
       " 'B00000JDHV',\n",
       " 'B00000JII6']"
      ]
     },
     "execution_count": 74,
     "metadata": {},
     "output_type": "execute_result"
    }
   ],
   "source": [
    "Recommend= list(X.index[correlation_matrix_ID> 0.65])\n",
    "# 피어슨 상관계수가 0.65보다 큰 상품들의 index의 list reuturn\n",
    "\n",
    "Recommend.remove(i)\n",
    "# 이미 구입한 상품은 뺀다\n",
    "Recommend[0:24] "
   ]
  },
  {
   "cell_type": "code",
   "execution_count": 75,
   "metadata": {},
   "outputs": [
    {
     "data": {
      "text/plain": [
       "['8862935293',\n",
       " '9625993428',\n",
       " '9983891212',\n",
       " 'B000001OM4',\n",
       " 'B000001OM5',\n",
       " 'B00000J08Q',\n",
       " 'B00000J0D5',\n",
       " 'B00000J1U8',\n",
       " 'B00000JDHV',\n",
       " 'B00000JII6']"
      ]
     },
     "execution_count": 75,
     "metadata": {},
     "output_type": "execute_result"
    }
   ],
   "source": [
    "Recommend"
   ]
  },
  {
   "cell_type": "code",
   "execution_count": null,
   "metadata": {},
   "outputs": [],
   "source": []
  }
 ],
 "metadata": {
  "kernelspec": {
   "display_name": "Python 3",
   "language": "python",
   "name": "python3"
  },
  "language_info": {
   "codemirror_mode": {
    "name": "ipython",
    "version": 3
   },
   "file_extension": ".py",
   "mimetype": "text/x-python",
   "name": "python",
   "nbconvert_exporter": "python",
   "pygments_lexer": "ipython3",
   "version": "3.8.5"
  }
 },
 "nbformat": 4,
 "nbformat_minor": 4
}
